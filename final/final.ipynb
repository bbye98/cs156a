{
 "cells": [
  {
   "cell_type": "markdown",
   "metadata": {},
   "source": [
    "Benjamin Ye  \n",
    "CS/CNE/EE 156a: Learning Systems (Fall 2023)  \n",
    "December 1, 2023"
   ]
  },
  {
   "cell_type": "markdown",
   "metadata": {},
   "source": [
    "## Final Exam"
   ]
  },
  {
   "cell_type": "code",
   "execution_count": 25,
   "metadata": {},
   "outputs": [],
   "source": [
    "import sys\n",
    "\n",
    "import matplotlib as mpl\n",
    "import matplotlib.pyplot as plt\n",
    "import numpy as np\n",
    "import requests\n",
    "from sklearn import svm\n",
    "from sklearn.model_selection import cross_val_score\n",
    "from sklearn.utils import shuffle\n",
    "\n",
    "mpl.rcParams.update(\n",
    "    {\n",
    "        \"axes.labelsize\": 14,\n",
    "        \"figure.autolayout\": True,\n",
    "        \"figure.figsize\": (4.875, 3.65625),\n",
    "        \"font.size\": 12,\n",
    "        \"legend.columnspacing\": 1,\n",
    "        \"legend.edgecolor\": \"1\",\n",
    "        \"legend.framealpha\": 0,\n",
    "        \"legend.fontsize\": 12,\n",
    "        \"legend.handlelength\": 1.25,\n",
    "        \"legend.labelspacing\": 0.25,\n",
    "        \"xtick.labelsize\": 12,\n",
    "        \"ytick.labelsize\": 12,\n",
    "        \"text.usetex\": True\n",
    "    }\n",
    ")\n",
    "\n",
    "CWD = globals()['_dh'][0].resolve()\n",
    "sys.path.insert(0, str(CWD.parent))\n",
    "from cs156a import validate_binary, linear_regression\n",
    "\n",
    "DATA_DIR = (CWD.parent / \"data\").resolve()\n",
    "\n",
    "rng = np.random.default_rng()"
   ]
  },
  {
   "cell_type": "markdown",
   "metadata": {},
   "source": [
    "### Regularized Linear Regression"
   ]
  },
  {
   "cell_type": "code",
   "execution_count": 2,
   "metadata": {},
   "outputs": [],
   "source": [
    "DATA_DIR.mkdir(exist_ok=True)\n",
    "data = {}\n",
    "for dataset in [\"train\", \"test\"]:\n",
    "    file = f\"features.{dataset}\"\n",
    "    if not (DATA_DIR / file).exists():\n",
    "        r = requests.get(f\"http://www.amlbook.com/data/zip/{file}\")\n",
    "        with open(DATA_DIR / file, \"wb\") as f:\n",
    "            f.write(r.content)\n",
    "    data[dataset] = np.loadtxt(DATA_DIR / file)"
   ]
  },
  {
   "cell_type": "markdown",
   "metadata": {},
   "source": [
    "### Problems 7–10"
   ]
  },
  {
   "cell_type": "code",
   "execution_count": 24,
   "metadata": {},
   "outputs": [
    {
     "name": "stdout",
     "output_type": "stream",
     "text": [
      "\n",
      "[FE P7–9]\n",
      "Linear regression with regularization statistics:\n",
      "  0 vs. all:\n",
      "    X: E_in=0.109313, E_out=0.115097\n",
      "    Z: E_in=0.102318, E_out=0.106627\n",
      "  1 vs. all:\n",
      "    X: E_in=0.015224, E_out=0.022422\n",
      "    Z: E_in=0.012344, E_out=0.021923\n",
      "  2 vs. all:\n",
      "    X: E_in=0.100261, E_out=0.098655\n",
      "    Z: E_in=0.100261, E_out=0.098655\n",
      "  3 vs. all:\n",
      "    X: E_in=0.090248, E_out=0.082711\n",
      "    Z: E_in=0.090248, E_out=0.082711\n",
      "  4 vs. all:\n",
      "    X: E_in=0.089425, E_out=0.099651\n",
      "    Z: E_in=0.089425, E_out=0.099651\n",
      "  5 vs. all:\n",
      "    X: E_in=0.076258, E_out=0.079721\n",
      "    Z: E_in=0.076258, E_out=0.079223\n",
      "  6 vs. all:\n",
      "    X: E_in=0.091071, E_out=0.084704\n",
      "    Z: E_in=0.091071, E_out=0.084704\n",
      "  7 vs. all:\n",
      "    X: E_in=0.088465, E_out=0.073244\n",
      "    Z: E_in=0.088465, E_out=0.073244\n",
      "  8 vs. all:\n",
      "    X: E_in=0.074338, E_out=0.082711\n",
      "    Z: E_in=0.074338, E_out=0.082711\n",
      "  9 vs. all:\n",
      "    X: E_in=0.088328, E_out=0.088191\n",
      "    Z: E_in=0.088328, E_out=0.088191\n",
      "\n",
      "[FE P10]\n",
      "Linear regression with transform and regularization for 1 vs. 5 classifier statistics:\n",
      "    lambda=0.01: E_in=0.004484, E_out=0.028302\n",
      "    lambda=1: E_in=0.005125, E_out=0.025943\n"
     ]
    }
   ],
   "source": [
    "print(\"\\n[FE P7–9]\\nLinear regression with regularization statistics:\")\n",
    "transform = lambda x: np.hstack((x, x[:, 1:2] * x[:, 2:], x[:, 1:2] ** 2, \n",
    "                                 x[:, 2:] ** 2))\n",
    "for digit in range(10):\n",
    "    x = np.hstack((np.ones((len(data[\"train\"]), 1), dtype=float), \n",
    "                   data[\"train\"][:, 1:]))\n",
    "    y = 2 * (data[\"train\"][:, 0] == digit) - 1\n",
    "    x_test = np.hstack((np.ones((len(data[\"test\"]), 1), dtype=float), \n",
    "                        data[\"test\"][:, 1:]))\n",
    "    y_test = 2 * (data[\"test\"][:, 0] == digit) - 1\n",
    "    print(f\"  {digit} vs. all:\")\n",
    "    for t, l in zip((None, transform), (\"X\", \"Z\")):\n",
    "        E_in, E_out = linear_regression(\n",
    "            vf=validate_binary, x=x, y=y, transform=t, \n",
    "            regularization=\"weight_decay\", wd_lambda=1,\n",
    "            x_test=x_test, y_test=y_test, rng=rng\n",
    "        )\n",
    "        print(f\"    {l}: {E_in=:.6f}, {E_out=:.6f}\")\n",
    "\n",
    "print(\"\\n[FE P10]\\nLinear regression with transform and \"\n",
    "      \"regularization for 1 vs. 5 classifier statistics:\")\n",
    "subset = data[\"train\"][np.isin(data[\"train\"][:, 0], (1, 5))]\n",
    "x = np.hstack((np.ones((len(subset), 1), dtype=float), subset[:, 1:]))\n",
    "y = (subset[:, 0] == 1).astype(int) - (subset[:, 0] == 5)\n",
    "subset_test = data[\"test\"][np.isin(data[\"test\"][:, 0], (1, 5))]\n",
    "x_test = np.hstack((np.ones((len(subset_test), 1), dtype=float),\n",
    "                    subset_test[:, 1:]))\n",
    "y_test = (subset_test[:, 0] == 1).astype(int) - (subset_test[:, 0] == 5)\n",
    "for wd_lambda in (0.01, 1):\n",
    "    E_in, E_out = linear_regression(\n",
    "        vf=validate_binary, x=x, y=y, transform=transform, \n",
    "        regularization=\"weight_decay\", wd_lambda=wd_lambda, \n",
    "        x_test=x_test, y_test=y_test, rng=rng\n",
    "    )\n",
    "    print(f\"    lambda={wd_lambda}: {E_in=:.6f}, {E_out=:.6f}\")"
   ]
  },
  {
   "cell_type": "markdown",
   "metadata": {},
   "source": [
    "### Problems 11–12"
   ]
  },
  {
   "cell_type": "code",
   "execution_count": 60,
   "metadata": {},
   "outputs": [
    {
     "data": {
      "image/png": "[encoded data removed]",
      "text/plain": [
       "<Figure size 487.5x365.625 with 1 Axes>"
      ]
     },
     "metadata": {},
     "output_type": "display_data"
    }
   ],
   "source": [
    "x = np.array(((1, 0), (0, 1), (0, -1), (-1, 0), (0, 2), (0, -2), \n",
    "              (-2, 0)), dtype=float)\n",
    "y = np.array((-1, -1, -1, 1, 1, 1, 1), dtype=int)\n",
    "z = np.hstack((x[:, 1:] ** 2 - 2 * x[:, :1] - 1, x[:, :1] ** 2 - 2 * x[:, 1:] + 1))\n",
    "\n",
    "_, ax = plt.subplots()\n",
    "ax.scatter(*z[y == 1].T, marker=\"s\", label=\"$+1$\")\n",
    "ax.scatter(*z[y == -1].T, marker=\"o\", label=\"$-1$\")\n",
    "ax.set_aspect(\"equal\", \"box\")\n",
    "ax.set_xlabel(\"$z_1$\")\n",
    "ax.set_xlim(-6, 6)\n",
    "ax.set_ylabel(\"$z_2$\")\n",
    "ax.set_ylim(-6, 6)\n",
    "ax.legend(title=\"Classification\")\n",
    "plt.show()"
   ]
  }
 ],
 "metadata": {
  "kernelspec": {
   "display_name": "cs156a",
   "language": "python",
   "name": "python3"
  },
  "language_info": {
   "codemirror_mode": {
    "name": "ipython",
    "version": 3
   },
   "file_extension": ".py",
   "mimetype": "text/x-python",
   "name": "python",
   "nbconvert_exporter": "python",
   "pygments_lexer": "ipython3",
   "version": "3.11.6"
  }
 },
 "nbformat": 4,
 "nbformat_minor": 2
}
