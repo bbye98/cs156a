{
 "cells": [
  {
   "cell_type": "markdown",
   "metadata": {},
   "source": [
    "Benjamin Ye  \n",
    "CS/CNE/EE 156a: Learning Systems (Fall 2023)  \n",
    "November 13, 2023"
   ]
  },
  {
   "cell_type": "markdown",
   "metadata": {},
   "source": [
    "## Homework 7"
   ]
  },
  {
   "cell_type": "code",
   "execution_count": 1,
   "metadata": {},
   "outputs": [],
   "source": [
    "import sys\n",
    "\n",
    "import numpy as np\n",
    "import pandas as pd\n",
    "import requests\n",
    "from sklearn import svm\n",
    "\n",
    "CWD = globals()['_dh'][0]\n",
    "sys.path.insert(0, str(CWD.parents[1]))\n",
    "from cs156a import (LinearRegression, Perceptron, target_function_random_line,\n",
    "                    generate_data, validate_binary)\n",
    "\n",
    "DATA_DIR = CWD.parents[1] / \"data\"\n",
    "rng = np.random.default_rng()"
   ]
  },
  {
   "cell_type": "markdown",
   "metadata": {},
   "source": [
    "### Problems 1–5"
   ]
  },
  {
   "cell_type": "code",
   "execution_count": 2,
   "metadata": {},
   "outputs": [
    {
     "data": {
      "text/html": [
       "<style type=\"text/css\">\n",
       "</style>\n",
       "<table id=\"T_22ad6\">\n",
       "  <caption>Linear regression with nonlinear transformation</caption>\n",
       "  <thead>\n",
       "    <tr>\n",
       "      <th id=\"T_22ad6_level0_col0\" class=\"col_heading level0 col0\" >split</th>\n",
       "      <th id=\"T_22ad6_level0_col1\" class=\"col_heading level0 col1\" >k</th>\n",
       "      <th id=\"T_22ad6_level0_col2\" class=\"col_heading level0 col2\" >training error</th>\n",
       "      <th id=\"T_22ad6_level0_col3\" class=\"col_heading level0 col3\" >validation error</th>\n",
       "      <th id=\"T_22ad6_level0_col4\" class=\"col_heading level0 col4\" >out-of-sample error</th>\n",
       "    </tr>\n",
       "  </thead>\n",
       "  <tbody>\n",
       "    <tr>\n",
       "      <td id=\"T_22ad6_row0_col0\" class=\"data row0 col0\" >25:10</td>\n",
       "      <td id=\"T_22ad6_row0_col1\" class=\"data row0 col1\" >3</td>\n",
       "      <td id=\"T_22ad6_row0_col2\" class=\"data row0 col2\" >0.440</td>\n",
       "      <td id=\"T_22ad6_row0_col3\" class=\"data row0 col3\" >0.300</td>\n",
       "      <td id=\"T_22ad6_row0_col4\" class=\"data row0 col4\" >0.420</td>\n",
       "    </tr>\n",
       "    <tr>\n",
       "      <td id=\"T_22ad6_row1_col0\" class=\"data row1 col0\" >25:10</td>\n",
       "      <td id=\"T_22ad6_row1_col1\" class=\"data row1 col1\" >4</td>\n",
       "      <td id=\"T_22ad6_row1_col2\" class=\"data row1 col2\" >0.320</td>\n",
       "      <td id=\"T_22ad6_row1_col3\" class=\"data row1 col3\" >0.500</td>\n",
       "      <td id=\"T_22ad6_row1_col4\" class=\"data row1 col4\" >0.416</td>\n",
       "    </tr>\n",
       "    <tr>\n",
       "      <td id=\"T_22ad6_row2_col0\" class=\"data row2 col0\" >25:10</td>\n",
       "      <td id=\"T_22ad6_row2_col1\" class=\"data row2 col1\" >5</td>\n",
       "      <td id=\"T_22ad6_row2_col2\" class=\"data row2 col2\" >0.080</td>\n",
       "      <td id=\"T_22ad6_row2_col3\" class=\"data row2 col3\" >0.200</td>\n",
       "      <td id=\"T_22ad6_row2_col4\" class=\"data row2 col4\" >0.188</td>\n",
       "    </tr>\n",
       "    <tr>\n",
       "      <td id=\"T_22ad6_row3_col0\" class=\"data row3 col0\" >25:10</td>\n",
       "      <td id=\"T_22ad6_row3_col1\" class=\"data row3 col1\" >6</td>\n",
       "      <td id=\"T_22ad6_row3_col2\" class=\"data row3 col2\" >0.040</td>\n",
       "      <td id=\"T_22ad6_row3_col3\" class=\"data row3 col3\" >0.000</td>\n",
       "      <td id=\"T_22ad6_row3_col4\" class=\"data row3 col4\" >0.084</td>\n",
       "    </tr>\n",
       "    <tr>\n",
       "      <td id=\"T_22ad6_row4_col0\" class=\"data row4 col0\" >25:10</td>\n",
       "      <td id=\"T_22ad6_row4_col1\" class=\"data row4 col1\" >7</td>\n",
       "      <td id=\"T_22ad6_row4_col2\" class=\"data row4 col2\" >0.040</td>\n",
       "      <td id=\"T_22ad6_row4_col3\" class=\"data row4 col3\" >0.100</td>\n",
       "      <td id=\"T_22ad6_row4_col4\" class=\"data row4 col4\" >0.072</td>\n",
       "    </tr>\n",
       "    <tr>\n",
       "      <td id=\"T_22ad6_row5_col0\" class=\"data row5 col0\" >10:25</td>\n",
       "      <td id=\"T_22ad6_row5_col1\" class=\"data row5 col1\" >3</td>\n",
       "      <td id=\"T_22ad6_row5_col2\" class=\"data row5 col2\" >0.400</td>\n",
       "      <td id=\"T_22ad6_row5_col3\" class=\"data row5 col3\" >0.280</td>\n",
       "      <td id=\"T_22ad6_row5_col4\" class=\"data row5 col4\" >0.396</td>\n",
       "    </tr>\n",
       "    <tr>\n",
       "      <td id=\"T_22ad6_row6_col0\" class=\"data row6 col0\" >10:25</td>\n",
       "      <td id=\"T_22ad6_row6_col1\" class=\"data row6 col1\" >4</td>\n",
       "      <td id=\"T_22ad6_row6_col2\" class=\"data row6 col2\" >0.300</td>\n",
       "      <td id=\"T_22ad6_row6_col3\" class=\"data row6 col3\" >0.360</td>\n",
       "      <td id=\"T_22ad6_row6_col4\" class=\"data row6 col4\" >0.388</td>\n",
       "    </tr>\n",
       "    <tr>\n",
       "      <td id=\"T_22ad6_row7_col0\" class=\"data row7 col0\" >10:25</td>\n",
       "      <td id=\"T_22ad6_row7_col1\" class=\"data row7 col1\" >5</td>\n",
       "      <td id=\"T_22ad6_row7_col2\" class=\"data row7 col2\" >0.200</td>\n",
       "      <td id=\"T_22ad6_row7_col3\" class=\"data row7 col3\" >0.200</td>\n",
       "      <td id=\"T_22ad6_row7_col4\" class=\"data row7 col4\" >0.284</td>\n",
       "    </tr>\n",
       "    <tr>\n",
       "      <td id=\"T_22ad6_row8_col0\" class=\"data row8 col0\" >10:25</td>\n",
       "      <td id=\"T_22ad6_row8_col1\" class=\"data row8 col1\" >6</td>\n",
       "      <td id=\"T_22ad6_row8_col2\" class=\"data row8 col2\" >0.000</td>\n",
       "      <td id=\"T_22ad6_row8_col3\" class=\"data row8 col3\" >0.080</td>\n",
       "      <td id=\"T_22ad6_row8_col4\" class=\"data row8 col4\" >0.192</td>\n",
       "    </tr>\n",
       "    <tr>\n",
       "      <td id=\"T_22ad6_row9_col0\" class=\"data row9 col0\" >10:25</td>\n",
       "      <td id=\"T_22ad6_row9_col1\" class=\"data row9 col1\" >7</td>\n",
       "      <td id=\"T_22ad6_row9_col2\" class=\"data row9 col2\" >0.000</td>\n",
       "      <td id=\"T_22ad6_row9_col3\" class=\"data row9 col3\" >0.120</td>\n",
       "      <td id=\"T_22ad6_row9_col4\" class=\"data row9 col4\" >0.196</td>\n",
       "    </tr>\n",
       "  </tbody>\n",
       "</table>\n"
      ],
      "text/plain": [
       "<pandas.io.formats.style.Styler at 0x7f8f769e2390>"
      ]
     },
     "execution_count": 2,
     "metadata": {},
     "output_type": "execute_result"
    }
   ],
   "source": [
    "DATA_DIR.mkdir(exist_ok=True)\n",
    "raw_data = {}\n",
    "for prefix in [\"in\", \"out\"]:\n",
    "    if not (DATA_DIR / f\"{prefix}.dta\").exists():\n",
    "        r = requests.get(f\"http://work.caltech.edu/data/{prefix}.dta\")\n",
    "        with open(DATA_DIR / f\"{prefix}.dta\", \"wb\") as f:\n",
    "            f.write(r.content)\n",
    "    raw_data[prefix] = np.loadtxt(DATA_DIR / f\"{prefix}.dta\")\n",
    "\n",
    "ns = (25, len(raw_data[\"in\"]) - 25)\n",
    "data = np.array_split(raw_data[\"in\"], (ns[0],))\n",
    "transform_funcs = (\n",
    "    lambda x: np.ones((len(x), 1), dtype=float), \n",
    "    lambda x: x,\n",
    "    lambda x: x[:, :1] ** 2, \n",
    "    lambda x: x[:, 1:] ** 2, \n",
    "    lambda x: np.prod(x, axis=1, keepdims=True), \n",
    "    lambda x: np.abs(x[:, :1] - x[:, 1:]), \n",
    "    lambda x: np.abs(x[:, :1] + x[:, 1:])\n",
    ")\n",
    "reg = LinearRegression(\n",
    "    vf=validate_binary, \n",
    "    transform=lambda x: np.hstack(tuple(f(x) for f in transform_funcs[:k])),\n",
    "    rng=rng\n",
    ")\n",
    "df = pd.DataFrame(columns=[\"split\", \"k\", \"training error\", \n",
    "                           \"validation error\", \"out-of-sample error\"])\n",
    "for i in range(2):\n",
    "    for k in np.arange(3, 8):\n",
    "        E_train = reg.train(data[i][:, :-1], data[i][:, -1])\n",
    "        E_validate = reg.get_error(data[1 - i][:, :-1], data[1 - i][:, -1])\n",
    "        E_out = reg.get_error(raw_data[\"out\"][:, :-1], \n",
    "                                raw_data[\"out\"][:, -1])\n",
    "        df.loc[len(df)] = (f\"{ns[i]}:{ns[1 - i]}\", k, \n",
    "                           E_train, E_validate, E_out)\n",
    "(df.style.hide(axis=\"index\")\n",
    "         .format(\"{:.3f}\", subset=[\"training error\", \"validation error\", \n",
    "                                   \"out-of-sample error\"])\n",
    "         .set_caption(\"Linear regression with nonlinear transformation\"))"
   ]
  },
  {
   "cell_type": "markdown",
   "metadata": {},
   "source": [
    "### Problem 6"
   ]
  },
  {
   "cell_type": "code",
   "execution_count": 3,
   "metadata": {},
   "outputs": [
    {
     "name": "stdout",
     "output_type": "stream",
     "text": [
      "The expected values for paired independent uniform random variables and their minimum are 0.499952, 0.500101, and 0.333384, respectively.\n"
     ]
    }
   ],
   "source": [
    "x = rng.uniform(size=(10_000_000, 2))\n",
    "e_1, e_2 = x.mean(axis=0)\n",
    "e = x.min(axis=1).mean()\n",
    "print(\"The expected values for paired independent uniform random \"\n",
    "      f\"variables and their minimum are {e_1:.6f}, \"\n",
    "      f\"{e_2:.6f}, and {e:.6f}, respectively.\")"
   ]
  },
  {
   "cell_type": "markdown",
   "metadata": {},
   "source": [
    "### Problems 8–10"
   ]
  },
  {
   "cell_type": "code",
   "execution_count": 4,
   "metadata": {},
   "outputs": [
    {
     "data": {
      "text/html": [
       "<style type=\"text/css\">\n",
       "</style>\n",
       "<table id=\"T_56d3c\">\n",
       "  <caption>Comparison of perceptron and support vector machine (SVM)</caption>\n",
       "  <thead>\n",
       "    <tr>\n",
       "      <th id=\"T_56d3c_level0_col0\" class=\"col_heading level0 col0\" >N</th>\n",
       "      <th id=\"T_56d3c_level0_col1\" class=\"col_heading level0 col1\" >SVM > perceptron</th>\n",
       "      <th id=\"T_56d3c_level0_col2\" class=\"col_heading level0 col2\" >number of support vectors</th>\n",
       "    </tr>\n",
       "  </thead>\n",
       "  <tbody>\n",
       "    <tr>\n",
       "      <td id=\"T_56d3c_row0_col0\" class=\"data row0 col0\" >10</td>\n",
       "      <td id=\"T_56d3c_row0_col1\" class=\"data row0 col1\" >59.2%</td>\n",
       "      <td id=\"T_56d3c_row0_col2\" class=\"data row0 col2\" >3</td>\n",
       "    </tr>\n",
       "    <tr>\n",
       "      <td id=\"T_56d3c_row1_col0\" class=\"data row1 col0\" >100</td>\n",
       "      <td id=\"T_56d3c_row1_col1\" class=\"data row1 col1\" >64.4%</td>\n",
       "      <td id=\"T_56d3c_row1_col2\" class=\"data row1 col2\" >3</td>\n",
       "    </tr>\n",
       "  </tbody>\n",
       "</table>\n"
      ],
      "text/plain": [
       "<pandas.io.formats.style.Styler at 0x7f90498205d0>"
      ]
     },
     "execution_count": 4,
     "metadata": {},
     "output_type": "execute_result"
    }
   ],
   "source": [
    "N_runs = 1_000\n",
    "f = target_function_random_line(rng=rng)\n",
    "pla = Perceptron(vf=validate_binary)\n",
    "clf = svm.SVC(C=np.finfo(float).max, kernel=\"linear\")\n",
    "df = pd.DataFrame(columns=[\"N\", \"SVM > perceptron\",\n",
    "                           \"number of support vectors\"])\n",
    "for N_train in (10, 100):\n",
    "    N_test = 99 * N_train\n",
    "    counters = np.zeros(2, dtype=float)\n",
    "    for _ in range(N_runs):\n",
    "        while True:\n",
    "            x_train, y_train = generate_data(N_train, f, bias=True, \n",
    "                                             rng=rng)\n",
    "            if not np.allclose(y_train, y_train[0]):\n",
    "                break\n",
    "        x_test, y_test = generate_data(N_test, f, bias=True, rng=rng)\n",
    "        pla.train(x_train, y_train)\n",
    "        clf.fit(x_train[:, 1:], y_train)\n",
    "        counters += (\n",
    "            1 - clf.score(x_test[:, 1:], y_test) \n",
    "                < pla.get_error(x_test, y_test),\n",
    "            clf.n_support_.sum()\n",
    "        )\n",
    "    counters /= N_runs\n",
    "    df.loc[len(df)] = N_train, *counters\n",
    "(df.style.hide(axis=\"index\")\n",
    "         .format({\"N\": \"{:.0f}\", \"SVM > perceptron\": \"{:.1%}\", \n",
    "                  \"number of support vectors\": \"{:.0f}\"})\n",
    "         .set_caption(\"Comparison of perceptron and support vector \"\n",
    "                      \"machine (SVM)\"))"
   ]
  }
 ],
 "metadata": {
  "kernelspec": {
   "display_name": "base",
   "language": "python",
   "name": "python3"
  },
  "language_info": {
   "codemirror_mode": {
    "name": "ipython",
    "version": 3
   },
   "file_extension": ".py",
   "mimetype": "text/x-python",
   "name": "python",
   "nbconvert_exporter": "python",
   "pygments_lexer": "ipython3",
   "version": "3.11.6"
  }
 },
 "nbformat": 4,
 "nbformat_minor": 2
}
