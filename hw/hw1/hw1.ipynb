{
 "cells": [
  {
   "cell_type": "markdown",
   "metadata": {},
   "source": [
    "Benjamin Ye  \n",
    "CS/CNE/EE 156a: Learning Systems (Fall 2023)  \n",
    "October 2, 2023"
   ]
  },
  {
   "cell_type": "markdown",
   "metadata": {},
   "source": [
    "## Homework 1"
   ]
  },
  {
   "cell_type": "code",
   "execution_count": 3,
   "metadata": {},
   "outputs": [],
   "source": [
    "import sys\n",
    "\n",
    "import numpy as np\n",
    "import pandas as pd\n",
    "\n",
    "sys.path.insert(0, str(globals()['_dh'][0].parents[1]))\n",
    "from cs156a import (Perceptron, target_function_random_line, generate_data,\n",
    "                    validate_binary)\n",
    "\n",
    "rng = np.random.default_rng()"
   ]
  },
  {
   "cell_type": "markdown",
   "metadata": {},
   "source": [
    "#### Problems 7–10"
   ]
  },
  {
   "cell_type": "code",
   "execution_count": 4,
   "metadata": {},
   "outputs": [
    {
     "data": {
      "text/html": [
       "<style type=\"text/css\">\n",
       "</style>\n",
       "<table id=\"T_bd061\">\n",
       "  <caption>Perceptron learning algorithm (1,000 runs)</caption>\n",
       "  <thead>\n",
       "    <tr>\n",
       "      <th id=\"T_bd061_level0_col0\" class=\"col_heading level0 col0\" >number of points</th>\n",
       "      <th id=\"T_bd061_level0_col1\" class=\"col_heading level0 col1\" >number of iterations</th>\n",
       "      <th id=\"T_bd061_level0_col2\" class=\"col_heading level0 col2\" >misclassification rate</th>\n",
       "    </tr>\n",
       "  </thead>\n",
       "  <tbody>\n",
       "    <tr>\n",
       "      <td id=\"T_bd061_row0_col0\" class=\"data row0 col0\" >10</td>\n",
       "      <td id=\"T_bd061_row0_col1\" class=\"data row0 col1\" >10</td>\n",
       "      <td id=\"T_bd061_row0_col2\" class=\"data row0 col2\" >0.108211</td>\n",
       "    </tr>\n",
       "    <tr>\n",
       "      <td id=\"T_bd061_row1_col0\" class=\"data row1 col0\" >100</td>\n",
       "      <td id=\"T_bd061_row1_col1\" class=\"data row1 col1\" >101</td>\n",
       "      <td id=\"T_bd061_row1_col2\" class=\"data row1 col2\" >0.013003</td>\n",
       "    </tr>\n",
       "  </tbody>\n",
       "</table>\n"
      ],
      "text/plain": [
       "<pandas.io.formats.style.Styler at 0x7f0bd4e0d890>"
      ]
     },
     "execution_count": 4,
     "metadata": {},
     "output_type": "execute_result"
    }
   ],
   "source": [
    "N_runs = 1_000\n",
    "pla = Perceptron(vf=validate_binary)\n",
    "columns = [\"number of points\", \"number of iterations\", \n",
    "           \"misclassification rate\"]\n",
    "df = pd.DataFrame(columns=columns)\n",
    "for N_train in (10, 100):\n",
    "    N_test = 9 * N_train\n",
    "    counters = np.zeros(2, dtype=float)\n",
    "    for _ in range(N_runs):\n",
    "        f = target_function_random_line(rng=rng)\n",
    "        pla.train(*generate_data(N_train, f, bias=True, rng=rng))\n",
    "        counters += (\n",
    "            pla.iters, \n",
    "            pla.get_error(*generate_data(N_test, f, bias=True, rng=rng))\n",
    "        )\n",
    "    df.loc[len(df)] = N_train, *(counters / N_runs)\n",
    "(df.style.format(\"{:.0f}\", subset=columns[:2])\n",
    "         .hide(axis=\"index\")\n",
    "         .set_caption(f\"Perceptron learning algorithm ({N_runs:,} runs)\"))"
   ]
  }
 ],
 "metadata": {
  "kernelspec": {
   "display_name": "cs156a",
   "language": "python",
   "name": "python3"
  },
  "language_info": {
   "codemirror_mode": {
    "name": "ipython",
    "version": 3
   },
   "file_extension": ".py",
   "mimetype": "text/x-python",
   "name": "python",
   "nbconvert_exporter": "python",
   "pygments_lexer": "ipython3",
   "version": "3.11.6"
  }
 },
 "nbformat": 4,
 "nbformat_minor": 2
}
