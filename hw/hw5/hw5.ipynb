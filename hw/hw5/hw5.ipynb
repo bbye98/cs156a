{
 "cells": [
  {
   "cell_type": "markdown",
   "metadata": {},
   "source": [
    "Benjamin Ye  \n",
    "CS/CNE/EE 156a: Learning Systems (Fall 2023)  \n",
    "October 30, 2023"
   ]
  },
  {
   "cell_type": "markdown",
   "metadata": {},
   "source": [
    "## Homework 5"
   ]
  },
  {
   "cell_type": "code",
   "execution_count": 4,
   "metadata": {},
   "outputs": [],
   "source": [
    "import sys\n",
    "\n",
    "import numpy as np\n",
    "import pandas as pd\n",
    "\n",
    "sys.path.insert(0, str(globals()['_dh'][0].parents[1]))\n",
    "from cs156a import (StochasticGradientDescent, gradient_descent, \n",
    "                    coordinate_descent, target_function_random_line, \n",
    "                    generate_data)\n",
    "\n",
    "rng = np.random.default_rng()"
   ]
  },
  {
   "cell_type": "markdown",
   "metadata": {},
   "source": [
    "### Problems 5–7"
   ]
  },
  {
   "cell_type": "code",
   "execution_count": 5,
   "metadata": {},
   "outputs": [
    {
     "data": {
      "text/html": [
       "<style type=\"text/css\">\n",
       "</style>\n",
       "<table id=\"T_01630\">\n",
       "  <caption>Descent methods (eta=0.1)</caption>\n",
       "  <thead>\n",
       "    <tr>\n",
       "      <th id=\"T_01630_level0_col0\" class=\"col_heading level0 col0\" >method</th>\n",
       "      <th id=\"T_01630_level0_col1\" class=\"col_heading level0 col1\" >iterations</th>\n",
       "      <th id=\"T_01630_level0_col2\" class=\"col_heading level0 col2\" >x</th>\n",
       "      <th id=\"T_01630_level0_col3\" class=\"col_heading level0 col3\" >E(x)</th>\n",
       "    </tr>\n",
       "  </thead>\n",
       "  <tbody>\n",
       "    <tr>\n",
       "      <td id=\"T_01630_row0_col0\" class=\"data row0 col0\" >gradient descent</td>\n",
       "      <td id=\"T_01630_row0_col1\" class=\"data row0 col1\" >10</td>\n",
       "      <td id=\"T_01630_row0_col2\" class=\"data row0 col2\" >[0.044736 0.023959]</td>\n",
       "      <td id=\"T_01630_row0_col3\" class=\"data row0 col3\" >0.000000</td>\n",
       "    </tr>\n",
       "    <tr>\n",
       "      <td id=\"T_01630_row1_col0\" class=\"data row1 col0\" >coordinate descent</td>\n",
       "      <td id=\"T_01630_row1_col1\" class=\"data row1 col1\" >15</td>\n",
       "      <td id=\"T_01630_row1_col2\" class=\"data row1 col2\" >[ 6.297076 -2.852307]</td>\n",
       "      <td id=\"T_01630_row1_col3\" class=\"data row1 col3\" >0.139814</td>\n",
       "    </tr>\n",
       "  </tbody>\n",
       "</table>\n"
      ],
      "text/plain": [
       "<pandas.io.formats.style.Styler at 0x7fedfeb59310>"
      ]
     },
     "execution_count": 5,
     "metadata": {},
     "output_type": "execute_result"
    }
   ],
   "source": [
    "eta = 0.1\n",
    "E = lambda x: (x[0] * np.exp(x[1]) - 2 * x[1] * np.exp(-x[0])) ** 2\n",
    "dE_du = lambda x: (2 * (x[0] * np.exp(x[1]) - 2 * x[1] * np.exp(-x[0])) \n",
    "                  * (np.exp(x[1]) + 2 * x[1] * np.exp(-x[0])))\n",
    "dE_dv = lambda x: (2 * (x[0] * np.exp(x[1]) - 2 * x[1] * np.exp(-x[0]))\n",
    "                  * (x[0] * np.exp(x[1]) - 2 * np.exp(-x[0])))\n",
    "df = pd.DataFrame(columns=[\"method\", \"iterations\", \"x\", \"E(x)\"])\n",
    "x, iters = gradient_descent(E, lambda x: np.array((dE_du(x), dE_dv(x))), \n",
    "                            np.array((1, 1), dtype=float), eta=eta)\n",
    "df.loc[len(df)] = \"gradient descent\", iters, np.round(x, 6), E(x)\n",
    "x, iters = coordinate_descent(E, (dE_du, dE_dv), \n",
    "                              np.array((1, 1), dtype=float), eta=eta, \n",
    "                              max_iters=15)\n",
    "df.loc[len(df)] = \"coordinate descent\", iters, np.round(x, 6), E(x)\n",
    "df.style.hide(axis=\"index\").set_caption(f\"Descent methods ({eta=})\")"
   ]
  },
  {
   "cell_type": "markdown",
   "metadata": {},
   "source": [
    "### Problems 8–9"
   ]
  },
  {
   "cell_type": "code",
   "execution_count": 6,
   "metadata": {},
   "outputs": [
    {
     "name": "stdout",
     "output_type": "stream",
     "text": [
      "Using stochastic gradient descent with eta=0.01, the average number of epochs and out-of-sample error over 100 runs are 346 and 0.102080, respectively.\n"
     ]
    }
   ],
   "source": [
    "eta = 0.01\n",
    "N_runs = N_train = 100\n",
    "N_test = 9 * N_train\n",
    "sgd = StochasticGradientDescent(eta, rng=rng)\n",
    "counters = np.zeros(2, dtype=float)\n",
    "for _ in range(N_runs):\n",
    "    f = target_function_random_line(rng=rng)\n",
    "    sgd.train(*generate_data(N_train, f, bias=True, rng=rng))\n",
    "    counters += (\n",
    "        sgd.epochs, \n",
    "        sgd.get_error(*generate_data(N_test, f, bias=True, rng=rng))\n",
    "    )\n",
    "counters /= N_runs\n",
    "print(f\"Using stochastic gradient descent with {eta=}, the average number of epochs \"\n",
    "      f\"and out-of-sample error over {N_runs} runs are {counters[0]:.0f} and \"\n",
    "      f\"{counters[1]:.6f}, respectively.\")"
   ]
  }
 ],
 "metadata": {
  "kernelspec": {
   "display_name": "base",
   "language": "python",
   "name": "python3"
  },
  "language_info": {
   "codemirror_mode": {
    "name": "ipython",
    "version": 3
   },
   "file_extension": ".py",
   "mimetype": "text/x-python",
   "name": "python",
   "nbconvert_exporter": "python",
   "pygments_lexer": "ipython3",
   "version": "3.11.6"
  }
 },
 "nbformat": 4,
 "nbformat_minor": 2
}
