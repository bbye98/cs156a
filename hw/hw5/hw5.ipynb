{
 "cells": [
  {
   "cell_type": "markdown",
   "metadata": {},
   "source": [
    "Benjamin Ye  \n",
    "CS/CNE/EE 156a: Learning Systems (Fall 2023)  \n",
    "October 30, 2023"
   ]
  },
  {
   "cell_type": "markdown",
   "metadata": {},
   "source": [
    "## Homework 5"
   ]
  },
  {
   "cell_type": "code",
   "execution_count": 1,
   "metadata": {},
   "outputs": [],
   "source": [
    "import sys\n",
    "\n",
    "import numpy as np\n",
    "\n",
    "sys.path.insert(0, str(globals()['_dh'][0].resolve().parent))\n",
    "from cs156a import (\n",
    "    gradient_descent, coordinate_descent,\n",
    "    target_function_random_line, stochastic_gradient_descent\n",
    ")"
   ]
  },
  {
   "cell_type": "markdown",
   "metadata": {},
   "source": [
    "### Problems 5–7"
   ]
  },
  {
   "cell_type": "code",
   "execution_count": 2,
   "metadata": {},
   "outputs": [
    {
     "name": "stdout",
     "output_type": "stream",
     "text": [
      "\n",
      "[HW5 P5–7]\n",
      "Performance of descent methods for eta=0.1:\n",
      "  Gradient descent: iters=10, x=(0.045, 0.024)\n",
      "  Coordinate descent: iters=15, x=(6.297, -2.852), E(x)=1.398e-01\n"
     ]
    }
   ],
   "source": [
    "E = lambda x: (x[0] * np.exp(x[1]) - 2 * x[1] * np.exp(-x[0])) ** 2\n",
    "dE_du = lambda x: (2 * (x[0] * np.exp(x[1]) - 2 * x[1] * np.exp(-x[0])) \n",
    "                   * (np.exp(x[1]) + 2 * x[1] * np.exp(-x[0])))\n",
    "dE_dv = lambda x: (2 * (x[0] * np.exp(x[1]) - 2 * x[1] * np.exp(-x[0]))\n",
    "                   * (x[0] * np.exp(x[1]) - 2 * np.exp(-x[0])))\n",
    "print(f\"\\n[HW5 P5–7]\\nPerformance of descent methods for eta=0.1:\")\n",
    "x, iters = gradient_descent(E, lambda x: np.array((dE_du(x), dE_dv(x))), \n",
    "                            np.array((1, 1), dtype=float))\n",
    "print(f\"  Gradient descent: {iters=}, x=({x[0]:.3f}, {x[1]:.3f})\")\n",
    "x, iters = coordinate_descent(E, (dE_du, dE_dv), \n",
    "                              np.array((1, 1), dtype=float), max_iters=15)\n",
    "print(f\"  Coordinate descent: {iters=}, x=({x[0]:.3f}, {x[1]:.3f}), \"\n",
    "      f\"{E(x)=:.3e}\")"
   ]
  },
  {
   "cell_type": "markdown",
   "metadata": {},
   "source": [
    "### Problems 8–9"
   ]
  },
  {
   "cell_type": "code",
   "execution_count": 3,
   "metadata": {},
   "outputs": [
    {
     "name": "stdout",
     "output_type": "stream",
     "text": [
      "\n",
      "[HW5 P8–9]\n",
      "Stochastic gradient descent statistics over 100 runs:\n",
      "  N=100, epochs=346, E_out=0.101\n"
     ]
    }
   ],
   "source": [
    "rng = np.random.default_rng()\n",
    "N = 100\n",
    "n_runs = 100\n",
    "print(\"\\n[HW5 P8–9]\\nStochastic gradient descent statistics over \"\n",
    "      f\"{n_runs:,} runs:\")\n",
    "epochs, E_out = np.mean(\n",
    "    [stochastic_gradient_descent(N, target_function_random_line(rng=rng), \n",
    "                                 rng=rng) for _ in range(n_runs)],\n",
    "    axis=0\n",
    ")\n",
    "print(f\"  {N=}, {epochs=:.0f}, {E_out=:.3f}\")"
   ]
  }
 ],
 "metadata": {
  "kernelspec": {
   "display_name": "base",
   "language": "python",
   "name": "python3"
  },
  "language_info": {
   "codemirror_mode": {
    "name": "ipython",
    "version": 3
   },
   "file_extension": ".py",
   "mimetype": "text/x-python",
   "name": "python",
   "nbconvert_exporter": "python",
   "pygments_lexer": "ipython3",
   "version": "3.11.6"
  }
 },
 "nbformat": 4,
 "nbformat_minor": 2
}
