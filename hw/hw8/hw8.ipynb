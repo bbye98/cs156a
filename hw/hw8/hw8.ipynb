{
 "cells": [
  {
   "cell_type": "markdown",
   "metadata": {},
   "source": [
    "Benjamin Ye  \n",
    "CS/CNE/EE 156a: Learning Systems (Fall 2023)  \n",
    "November 20, 2023"
   ]
  },
  {
   "cell_type": "markdown",
   "metadata": {},
   "source": [
    "## Homework 8"
   ]
  },
  {
   "cell_type": "code",
   "execution_count": 7,
   "metadata": {},
   "outputs": [],
   "source": [
    "import sys\n",
    "\n",
    "import numpy as np\n",
    "import requests\n",
    "from sklearn import svm\n",
    "from sklearn.model_selection import cross_val_score\n",
    "from sklearn.utils import shuffle\n",
    "\n",
    "CWD = globals()['_dh'][0].resolve()\n",
    "sys.path.insert(0, str(CWD.parents[1]))\n",
    "from cs156a import support_vector_machine\n",
    "\n",
    "DATA_DIR = (CWD.parents[2] / \"data\").resolve()\n",
    "rng = np.random.default_rng()"
   ]
  },
  {
   "cell_type": "markdown",
   "metadata": {},
   "source": [
    "### Problems 2–4"
   ]
  },
  {
   "cell_type": "code",
   "execution_count": 9,
   "metadata": {},
   "outputs": [
    {
     "name": "stdout",
     "output_type": "stream",
     "text": [
      "\n",
      "[HW8 P2–4]\n",
      "SVM with soft margins (C=0.01) and polynomial kernel (Q=2):\n",
      "  0 vs. all: N_sv=2,179, E_in=0.1059, E_out=0.1116\n",
      "  1 vs. all: N_sv=386, E_in=0.0144, E_out=0.0219\n",
      "  2 vs. all: N_sv=1,970, E_in=0.1003, E_out=0.0987\n",
      "  3 vs. all: N_sv=1,950, E_in=0.0902, E_out=0.0827\n",
      "  4 vs. all: N_sv=1,856, E_in=0.0894, E_out=0.0997\n",
      "  5 vs. all: N_sv=1,585, E_in=0.0763, E_out=0.0797\n",
      "  6 vs. all: N_sv=1,893, E_in=0.0911, E_out=0.0847\n",
      "  7 vs. all: N_sv=1,704, E_in=0.0885, E_out=0.0732\n",
      "  8 vs. all: N_sv=1,776, E_in=0.0743, E_out=0.0827\n",
      "  9 vs. all: N_sv=1,978, E_in=0.0883, E_out=0.0882\n"
     ]
    }
   ],
   "source": [
    "DATA_DIR.mkdir(exist_ok=True)\n",
    "data = {}\n",
    "for dataset in [\"train\", \"test\"]:\n",
    "    file = f\"features.{dataset}\"\n",
    "    if not (DATA_DIR / file).exists():\n",
    "        r = requests.get(f\"http://www.amlbook.com/data/zip/{file}\")\n",
    "        with open(DATA_DIR / file, \"wb\") as f:\n",
    "            f.write(r.content)\n",
    "    data[dataset] = np.loadtxt(DATA_DIR / file)\n",
    "\n",
    "C = 0.01\n",
    "Q = 2\n",
    "print(f\"\\n[HW8 P2–4]\\nSVM with soft margins ({C=}) \"\n",
    "      f\"and polynomial kernel ({Q=}):\")\n",
    "clf = svm.SVC(C=C, kernel=\"poly\", degree=Q, gamma=1, coef0=1)\n",
    "for digit in range(0, 10):\n",
    "    x = data[\"train\"][:, 1:]\n",
    "    y = 2 * (data[\"train\"][:, 0] == digit) - 1\n",
    "    N_sv, E_out = support_vector_machine(\n",
    "        x=x, y=y,\n",
    "        x_test=data[\"test\"][:, 1:], \n",
    "        y_test=2 * (data[\"test\"][:, 0] == digit) - 1,\n",
    "        clf=clf, rng=rng\n",
    "    )\n",
    "    E_in = 1 - clf.score(x, y)\n",
    "    print(f\"  {digit} vs. all: {N_sv=:,}, {E_in=:.4f}, {E_out=:.4f}\")"
   ]
  },
  {
   "cell_type": "markdown",
   "metadata": {},
   "source": [
    "### Problems 5–6"
   ]
  },
  {
   "cell_type": "code",
   "execution_count": 10,
   "metadata": {},
   "outputs": [
    {
     "name": "stdout",
     "output_type": "stream",
     "text": [
      "\n",
      "[HW8 P5–6]\n",
      "SVM with soft margins and polynomial kernel (1 vs. 5 classifier):\n",
      "  C=0.0001, Q=2: N_sv=236, E_in=0.0090, E_out=0.0165\n",
      "  C=0.001, Q=2: N_sv=76, E_in=0.0045, E_out=0.0165\n",
      "  C=0.01, Q=2: N_sv=34, E_in=0.0045, E_out=0.0189\n",
      "  C=0.1, Q=2: N_sv=24, E_in=0.0045, E_out=0.0189\n",
      "  C=1, Q=2: N_sv=24, E_in=0.0032, E_out=0.0189\n",
      "  C=0.0001, Q=5: N_sv=26, E_in=0.0045, E_out=0.0189\n",
      "  C=0.001, Q=5: N_sv=25, E_in=0.0045, E_out=0.0212\n",
      "  C=0.01, Q=5: N_sv=23, E_in=0.0038, E_out=0.0212\n",
      "  C=0.1, Q=5: N_sv=25, E_in=0.0032, E_out=0.0189\n",
      "  C=1, Q=5: N_sv=21, E_in=0.0032, E_out=0.0212\n"
     ]
    }
   ],
   "source": [
    "_x = data[\"train\"][np.isin(data[\"train\"][:, 0], (1, 5))]\n",
    "y = 2 * (_x[:, 0] == 1) - 1\n",
    "_x_test = data[\"test\"][np.isin(data[\"test\"][:, 0], (1, 5))]\n",
    "y_test = 2 * (_x_test[:, 0] == 1) - 1\n",
    "\n",
    "Cs = [0.0001, 0.001, 0.01, 0.1, 1]\n",
    "Qs = [2, 5]\n",
    "print(\"\\n[HW8 P5–6]\\nSVM with soft margins and polynomial kernel \"\n",
    "      \"(1 vs. 5 classifier):\")\n",
    "for Q in Qs:\n",
    "    for C in Cs:\n",
    "        clf = svm.SVC(C=C, kernel=\"poly\", degree=Q, gamma=1, coef0=1)\n",
    "        N_sv, E_out = support_vector_machine(\n",
    "            x=_x[:, 1:], y=y,\n",
    "            x_test=_x_test[:, 1:], y_test=y_test,\n",
    "            clf=clf, rng=rng\n",
    "        )\n",
    "        E_in = 1 - clf.score(_x[:, 1:], y)\n",
    "        print(f\"  {C=}, {Q=}: {N_sv=:,}, {E_in=:.4f}, {E_out=:.4f}\")"
   ]
  },
  {
   "cell_type": "markdown",
   "metadata": {},
   "source": [
    "### Problems 7–8"
   ]
  },
  {
   "cell_type": "code",
   "execution_count": 11,
   "metadata": {},
   "outputs": [
    {
     "name": "stdout",
     "output_type": "stream",
     "text": [
      "\n",
      "[HW8 P7–8]\n",
      "Cross validation for SVM with soft margins and polynomial kernel (1 vs. 5 classifier):\n",
      "   C=0.001 is selected most often.\n",
      "   E_cv=0.005\n"
     ]
    }
   ],
   "source": [
    "_x = data[\"train\"][np.isin(data[\"train\"][:, 0], (1, 5))]\n",
    "y = 2 * (_x[:, 0] == 1) - 1\n",
    "\n",
    "Cs = [0.0001, 0.001, 0.01, 0.1, 1]\n",
    "Q = 2\n",
    "n_fold = 10\n",
    "n_runs = 100\n",
    "\n",
    "clfs = [svm.SVC(C=C, kernel=\"poly\", degree=Q, gamma=1, coef0=1) for C in Cs]\n",
    "ns_C = np.zeros_like(Cs, dtype=int)\n",
    "Es_cv_C = np.zeros_like(Cs, dtype=float)\n",
    "for _ in range(n_runs):\n",
    "    Es_cv = np.fromiter((1 - cross_val_score(clf, _x[:, 1:], y, cv=n_fold).mean() \n",
    "                         for clf in clfs), dtype=float, count=len(clfs))\n",
    "    ns_C[np.argmin(Es_cv)] += 1\n",
    "    Es_cv_C += Es_cv\n",
    "    _x, y = shuffle(_x, y)\n",
    "Es_cv_C /= n_runs\n",
    "best_C = np.argmax(ns_C)\n",
    "print(\"\\n[HW8 P7–8]\\nCross validation for SVM with soft margins \"\n",
    "      \"and polynomial kernel (1 vs. 5 classifier):\\n\",\n",
    "      f\"  C={Cs[best_C]} is selected most often.\\n\",\n",
    "      f\"  E_cv={Es_cv_C[best_C]:.3f}\",)"
   ]
  },
  {
   "cell_type": "markdown",
   "metadata": {},
   "source": [
    "### Problems 9–10"
   ]
  },
  {
   "cell_type": "code",
   "execution_count": 12,
   "metadata": {},
   "outputs": [
    {
     "name": "stdout",
     "output_type": "stream",
     "text": [
      "\n",
      "[HW8 P9–10]\n",
      "SVM with soft margins and RBF kernel (1 vs. 5 classifier):\n",
      "  C=0.01, E_in=0.0038, E_out=0.0236\n",
      "  C=1, E_in=0.0045, E_out=0.0212\n",
      "  C=100, E_in=0.0032, E_out=0.0189\n",
      "  C=10,000, E_in=0.0026, E_out=0.0236\n",
      "  C=1e+06, E_in=0.0006, E_out=0.0236\n"
     ]
    }
   ],
   "source": [
    "_x = data[\"train\"][np.isin(data[\"train\"][:, 0], (1, 5))]\n",
    "y = 2 * (_x[:, 0] == 1) - 1\n",
    "_x_test = data[\"test\"][np.isin(data[\"test\"][:, 0], (1, 5))]\n",
    "y_test = 2 * (_x_test[:, 0] == 1) - 1\n",
    "\n",
    "print(\"\\n[HW8 P9–10]\\nSVM with soft margins and RBF kernel \"\n",
    "      \"(1 vs. 5 classifier):\")\n",
    "clfs = [svm.SVC(C=C, gamma=1) for C in [0.01, 1, 100, 1e4, 1e6]]\n",
    "for clf in clfs:\n",
    "    _, E_out = support_vector_machine(\n",
    "        x=_x[:, 1:], y=y, \n",
    "        x_test=_x_test[:, 1:], y_test=y_test,\n",
    "        clf=clf, rng=rng\n",
    "    )\n",
    "    E_in = 1 - clf.score(_x[:, 1:], y)\n",
    "    print(f\"  C={clf.C:,g}, {E_in=:.4f}, {E_out=:.4f}\")"
   ]
  }
 ],
 "metadata": {
  "kernelspec": {
   "display_name": "base",
   "language": "python",
   "name": "python3"
  },
  "language_info": {
   "codemirror_mode": {
    "name": "ipython",
    "version": 3
   },
   "file_extension": ".py",
   "mimetype": "text/x-python",
   "name": "python",
   "nbconvert_exporter": "python",
   "pygments_lexer": "ipython3",
   "version": "3.11.6"
  }
 },
 "nbformat": 4,
 "nbformat_minor": 2
}
