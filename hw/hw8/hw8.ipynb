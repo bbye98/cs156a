{
 "cells": [
  {
   "cell_type": "markdown",
   "metadata": {},
   "source": [
    "Benjamin Ye  \n",
    "CS/CNE/EE 156a: Learning Systems (Fall 2023)  \n",
    "November 20, 2023"
   ]
  },
  {
   "cell_type": "markdown",
   "metadata": {},
   "source": [
    "## Homework 8"
   ]
  },
  {
   "cell_type": "code",
   "execution_count": 1,
   "metadata": {},
   "outputs": [],
   "source": [
    "import numpy as np\n",
    "import pandas as pd\n",
    "import requests\n",
    "from sklearn import svm\n",
    "from sklearn.model_selection import cross_val_score\n",
    "from sklearn.utils import shuffle\n",
    "\n",
    "DATA_DIR = globals()['_dh'][0].parents[1] / \"data\"\n",
    "rng = np.random.default_rng()"
   ]
  },
  {
   "cell_type": "code",
   "execution_count": 2,
   "metadata": {},
   "outputs": [],
   "source": [
    "DATA_DIR.mkdir(exist_ok=True)\n",
    "data = {}\n",
    "for dataset in [\"train\", \"test\"]:\n",
    "    file = f\"features.{dataset}\"\n",
    "    if not (DATA_DIR / file).exists():\n",
    "        r = requests.get(f\"http://www.amlbook.com/data/zip/{file}\")\n",
    "        with open(DATA_DIR / file, \"wb\") as f:\n",
    "            f.write(r.content)\n",
    "    data[dataset] = np.loadtxt(DATA_DIR / file)"
   ]
  },
  {
   "cell_type": "markdown",
   "metadata": {},
   "source": [
    "### Problems 2–4"
   ]
  },
  {
   "cell_type": "code",
   "execution_count": 3,
   "metadata": {},
   "outputs": [
    {
     "data": {
      "text/html": [
       "<style type=\"text/css\">\n",
       "</style>\n",
       "<table id=\"T_741f0\">\n",
       "  <caption>Soft margin (C=0.01) SVM with polynomial kernel (Q=2)</caption>\n",
       "  <thead>\n",
       "    <tr>\n",
       "      <th id=\"T_741f0_level0_col0\" class=\"col_heading level0 col0\" >classifier</th>\n",
       "      <th id=\"T_741f0_level0_col1\" class=\"col_heading level0 col1\" >number of support vectors</th>\n",
       "      <th id=\"T_741f0_level0_col2\" class=\"col_heading level0 col2\" >in-sample error</th>\n",
       "      <th id=\"T_741f0_level0_col3\" class=\"col_heading level0 col3\" >out-of-sample error</th>\n",
       "    </tr>\n",
       "  </thead>\n",
       "  <tbody>\n",
       "    <tr>\n",
       "      <td id=\"T_741f0_row0_col0\" class=\"data row0 col0\" >0 vs. all</td>\n",
       "      <td id=\"T_741f0_row0_col1\" class=\"data row0 col1\" >2179</td>\n",
       "      <td id=\"T_741f0_row0_col2\" class=\"data row0 col2\" >0.105884</td>\n",
       "      <td id=\"T_741f0_row0_col3\" class=\"data row0 col3\" >0.111609</td>\n",
       "    </tr>\n",
       "    <tr>\n",
       "      <td id=\"T_741f0_row1_col0\" class=\"data row1 col0\" >1 vs. all</td>\n",
       "      <td id=\"T_741f0_row1_col1\" class=\"data row1 col1\" >386</td>\n",
       "      <td id=\"T_741f0_row1_col2\" class=\"data row1 col2\" >0.014401</td>\n",
       "      <td id=\"T_741f0_row1_col3\" class=\"data row1 col3\" >0.021923</td>\n",
       "    </tr>\n",
       "    <tr>\n",
       "      <td id=\"T_741f0_row2_col0\" class=\"data row2 col0\" >2 vs. all</td>\n",
       "      <td id=\"T_741f0_row2_col1\" class=\"data row2 col1\" >1970</td>\n",
       "      <td id=\"T_741f0_row2_col2\" class=\"data row2 col2\" >0.100261</td>\n",
       "      <td id=\"T_741f0_row2_col3\" class=\"data row2 col3\" >0.098655</td>\n",
       "    </tr>\n",
       "    <tr>\n",
       "      <td id=\"T_741f0_row3_col0\" class=\"data row3 col0\" >3 vs. all</td>\n",
       "      <td id=\"T_741f0_row3_col1\" class=\"data row3 col1\" >1950</td>\n",
       "      <td id=\"T_741f0_row3_col2\" class=\"data row3 col2\" >0.090248</td>\n",
       "      <td id=\"T_741f0_row3_col3\" class=\"data row3 col3\" >0.082711</td>\n",
       "    </tr>\n",
       "    <tr>\n",
       "      <td id=\"T_741f0_row4_col0\" class=\"data row4 col0\" >4 vs. all</td>\n",
       "      <td id=\"T_741f0_row4_col1\" class=\"data row4 col1\" >1856</td>\n",
       "      <td id=\"T_741f0_row4_col2\" class=\"data row4 col2\" >0.089425</td>\n",
       "      <td id=\"T_741f0_row4_col3\" class=\"data row4 col3\" >0.099651</td>\n",
       "    </tr>\n",
       "    <tr>\n",
       "      <td id=\"T_741f0_row5_col0\" class=\"data row5 col0\" >5 vs. all</td>\n",
       "      <td id=\"T_741f0_row5_col1\" class=\"data row5 col1\" >1585</td>\n",
       "      <td id=\"T_741f0_row5_col2\" class=\"data row5 col2\" >0.076258</td>\n",
       "      <td id=\"T_741f0_row5_col3\" class=\"data row5 col3\" >0.079721</td>\n",
       "    </tr>\n",
       "    <tr>\n",
       "      <td id=\"T_741f0_row6_col0\" class=\"data row6 col0\" >6 vs. all</td>\n",
       "      <td id=\"T_741f0_row6_col1\" class=\"data row6 col1\" >1893</td>\n",
       "      <td id=\"T_741f0_row6_col2\" class=\"data row6 col2\" >0.091071</td>\n",
       "      <td id=\"T_741f0_row6_col3\" class=\"data row6 col3\" >0.084704</td>\n",
       "    </tr>\n",
       "    <tr>\n",
       "      <td id=\"T_741f0_row7_col0\" class=\"data row7 col0\" >7 vs. all</td>\n",
       "      <td id=\"T_741f0_row7_col1\" class=\"data row7 col1\" >1704</td>\n",
       "      <td id=\"T_741f0_row7_col2\" class=\"data row7 col2\" >0.088465</td>\n",
       "      <td id=\"T_741f0_row7_col3\" class=\"data row7 col3\" >0.073244</td>\n",
       "    </tr>\n",
       "    <tr>\n",
       "      <td id=\"T_741f0_row8_col0\" class=\"data row8 col0\" >8 vs. all</td>\n",
       "      <td id=\"T_741f0_row8_col1\" class=\"data row8 col1\" >1776</td>\n",
       "      <td id=\"T_741f0_row8_col2\" class=\"data row8 col2\" >0.074338</td>\n",
       "      <td id=\"T_741f0_row8_col3\" class=\"data row8 col3\" >0.082711</td>\n",
       "    </tr>\n",
       "    <tr>\n",
       "      <td id=\"T_741f0_row9_col0\" class=\"data row9 col0\" >9 vs. all</td>\n",
       "      <td id=\"T_741f0_row9_col1\" class=\"data row9 col1\" >1978</td>\n",
       "      <td id=\"T_741f0_row9_col2\" class=\"data row9 col2\" >0.088328</td>\n",
       "      <td id=\"T_741f0_row9_col3\" class=\"data row9 col3\" >0.088191</td>\n",
       "    </tr>\n",
       "  </tbody>\n",
       "</table>\n"
      ],
      "text/plain": [
       "<pandas.io.formats.style.Styler at 0x7f6a140e8790>"
      ]
     },
     "execution_count": 3,
     "metadata": {},
     "output_type": "execute_result"
    }
   ],
   "source": [
    "C = 0.01\n",
    "Q = 2\n",
    "clf = svm.SVC(C=C, kernel=\"poly\", degree=Q, gamma=1, coef0=1)\n",
    "df = pd.DataFrame(columns=[\"classifier\", \"number of support vectors\", \n",
    "                           \"in-sample error\", \"out-of-sample error\"])\n",
    "for digit in range(10):\n",
    "    x_train = data[\"train\"][:, 1:]\n",
    "    y_train = 2 * (data[\"train\"][:, 0] == digit) - 1\n",
    "    clf.fit(x_train, y_train)\n",
    "    df.loc[digit] = (\n",
    "        f\"{digit} vs. all\", \n",
    "        clf.n_support_.sum(),\n",
    "        1 - clf.score(x_train, y_train),\n",
    "        1 - clf.score(data[\"test\"][:, 1:], \n",
    "                      2 * (data[\"test\"][:, 0] == digit) - 1)\n",
    "    )\n",
    "(df.style.hide(axis=\"index\")\n",
    "         .set_caption(f\"Soft margin ({C=}) SVM with polynomial kernel ({Q=})\"))"
   ]
  },
  {
   "cell_type": "markdown",
   "metadata": {},
   "source": [
    "### Problems 5–6"
   ]
  },
  {
   "cell_type": "code",
   "execution_count": 4,
   "metadata": {},
   "outputs": [
    {
     "data": {
      "text/html": [
       "<style type=\"text/css\">\n",
       "</style>\n",
       "<table id=\"T_6d746\">\n",
       "  <caption>Soft margin (C=1) SVM with polynomial kernel (Q=5) for 1 vs. 5 classifier</caption>\n",
       "  <thead>\n",
       "    <tr>\n",
       "      <th id=\"T_6d746_level0_col0\" class=\"col_heading level0 col0\" >C</th>\n",
       "      <th id=\"T_6d746_level0_col1\" class=\"col_heading level0 col1\" >Q</th>\n",
       "      <th id=\"T_6d746_level0_col2\" class=\"col_heading level0 col2\" >number of support vectors</th>\n",
       "      <th id=\"T_6d746_level0_col3\" class=\"col_heading level0 col3\" >in-sample error</th>\n",
       "      <th id=\"T_6d746_level0_col4\" class=\"col_heading level0 col4\" >out-of-sample error</th>\n",
       "    </tr>\n",
       "  </thead>\n",
       "  <tbody>\n",
       "    <tr>\n",
       "      <td id=\"T_6d746_row0_col0\" class=\"data row0 col0\" >0.0001</td>\n",
       "      <td id=\"T_6d746_row0_col1\" class=\"data row0 col1\" >2</td>\n",
       "      <td id=\"T_6d746_row0_col2\" class=\"data row0 col2\" >236</td>\n",
       "      <td id=\"T_6d746_row0_col3\" class=\"data row0 col3\" >0.008969</td>\n",
       "      <td id=\"T_6d746_row0_col4\" class=\"data row0 col4\" >0.016509</td>\n",
       "    </tr>\n",
       "    <tr>\n",
       "      <td id=\"T_6d746_row1_col0\" class=\"data row1 col0\" >0.0010</td>\n",
       "      <td id=\"T_6d746_row1_col1\" class=\"data row1 col1\" >2</td>\n",
       "      <td id=\"T_6d746_row1_col2\" class=\"data row1 col2\" >76</td>\n",
       "      <td id=\"T_6d746_row1_col3\" class=\"data row1 col3\" >0.004484</td>\n",
       "      <td id=\"T_6d746_row1_col4\" class=\"data row1 col4\" >0.016509</td>\n",
       "    </tr>\n",
       "    <tr>\n",
       "      <td id=\"T_6d746_row2_col0\" class=\"data row2 col0\" >0.0100</td>\n",
       "      <td id=\"T_6d746_row2_col1\" class=\"data row2 col1\" >2</td>\n",
       "      <td id=\"T_6d746_row2_col2\" class=\"data row2 col2\" >34</td>\n",
       "      <td id=\"T_6d746_row2_col3\" class=\"data row2 col3\" >0.004484</td>\n",
       "      <td id=\"T_6d746_row2_col4\" class=\"data row2 col4\" >0.018868</td>\n",
       "    </tr>\n",
       "    <tr>\n",
       "      <td id=\"T_6d746_row3_col0\" class=\"data row3 col0\" >0.1000</td>\n",
       "      <td id=\"T_6d746_row3_col1\" class=\"data row3 col1\" >2</td>\n",
       "      <td id=\"T_6d746_row3_col2\" class=\"data row3 col2\" >24</td>\n",
       "      <td id=\"T_6d746_row3_col3\" class=\"data row3 col3\" >0.004484</td>\n",
       "      <td id=\"T_6d746_row3_col4\" class=\"data row3 col4\" >0.018868</td>\n",
       "    </tr>\n",
       "    <tr>\n",
       "      <td id=\"T_6d746_row4_col0\" class=\"data row4 col0\" >1.0000</td>\n",
       "      <td id=\"T_6d746_row4_col1\" class=\"data row4 col1\" >2</td>\n",
       "      <td id=\"T_6d746_row4_col2\" class=\"data row4 col2\" >24</td>\n",
       "      <td id=\"T_6d746_row4_col3\" class=\"data row4 col3\" >0.003203</td>\n",
       "      <td id=\"T_6d746_row4_col4\" class=\"data row4 col4\" >0.018868</td>\n",
       "    </tr>\n",
       "    <tr>\n",
       "      <td id=\"T_6d746_row5_col0\" class=\"data row5 col0\" >0.0001</td>\n",
       "      <td id=\"T_6d746_row5_col1\" class=\"data row5 col1\" >5</td>\n",
       "      <td id=\"T_6d746_row5_col2\" class=\"data row5 col2\" >26</td>\n",
       "      <td id=\"T_6d746_row5_col3\" class=\"data row5 col3\" >0.004484</td>\n",
       "      <td id=\"T_6d746_row5_col4\" class=\"data row5 col4\" >0.018868</td>\n",
       "    </tr>\n",
       "    <tr>\n",
       "      <td id=\"T_6d746_row6_col0\" class=\"data row6 col0\" >0.0010</td>\n",
       "      <td id=\"T_6d746_row6_col1\" class=\"data row6 col1\" >5</td>\n",
       "      <td id=\"T_6d746_row6_col2\" class=\"data row6 col2\" >25</td>\n",
       "      <td id=\"T_6d746_row6_col3\" class=\"data row6 col3\" >0.004484</td>\n",
       "      <td id=\"T_6d746_row6_col4\" class=\"data row6 col4\" >0.021226</td>\n",
       "    </tr>\n",
       "    <tr>\n",
       "      <td id=\"T_6d746_row7_col0\" class=\"data row7 col0\" >0.0100</td>\n",
       "      <td id=\"T_6d746_row7_col1\" class=\"data row7 col1\" >5</td>\n",
       "      <td id=\"T_6d746_row7_col2\" class=\"data row7 col2\" >23</td>\n",
       "      <td id=\"T_6d746_row7_col3\" class=\"data row7 col3\" >0.003844</td>\n",
       "      <td id=\"T_6d746_row7_col4\" class=\"data row7 col4\" >0.021226</td>\n",
       "    </tr>\n",
       "    <tr>\n",
       "      <td id=\"T_6d746_row8_col0\" class=\"data row8 col0\" >0.1000</td>\n",
       "      <td id=\"T_6d746_row8_col1\" class=\"data row8 col1\" >5</td>\n",
       "      <td id=\"T_6d746_row8_col2\" class=\"data row8 col2\" >25</td>\n",
       "      <td id=\"T_6d746_row8_col3\" class=\"data row8 col3\" >0.003203</td>\n",
       "      <td id=\"T_6d746_row8_col4\" class=\"data row8 col4\" >0.018868</td>\n",
       "    </tr>\n",
       "    <tr>\n",
       "      <td id=\"T_6d746_row9_col0\" class=\"data row9 col0\" >1.0000</td>\n",
       "      <td id=\"T_6d746_row9_col1\" class=\"data row9 col1\" >5</td>\n",
       "      <td id=\"T_6d746_row9_col2\" class=\"data row9 col2\" >21</td>\n",
       "      <td id=\"T_6d746_row9_col3\" class=\"data row9 col3\" >0.003203</td>\n",
       "      <td id=\"T_6d746_row9_col4\" class=\"data row9 col4\" >0.021226</td>\n",
       "    </tr>\n",
       "  </tbody>\n",
       "</table>\n"
      ],
      "text/plain": [
       "<pandas.io.formats.style.Styler at 0x7f6a1425e850>"
      ]
     },
     "execution_count": 4,
     "metadata": {},
     "output_type": "execute_result"
    }
   ],
   "source": [
    "x_train = data[\"train\"][np.isin(data[\"train\"][:, 0], (1, 5))]\n",
    "y_train = 2 * (x_train[:, 0] == 1) - 1\n",
    "x_test = data[\"test\"][np.isin(data[\"test\"][:, 0], (1, 5))]\n",
    "y_test = 2 * (x_test[:, 0] == 1) - 1\n",
    "df = pd.DataFrame(columns=[\"C\", \"Q\", \"number of support vectors\",\n",
    "                           \"in-sample error\", \"out-of-sample error\"])\n",
    "for Q in (2, 5):\n",
    "    for C in (0.0001, 0.001, 0.01, 0.1, 1):\n",
    "        clf = svm.SVC(C=C, kernel=\"poly\", degree=Q, gamma=1, coef0=1)\n",
    "        clf.fit(x_train[:, 1:], y_train)\n",
    "        df.loc[len(df)] = (\n",
    "            C, Q, clf.n_support_.sum(),\n",
    "            1 - clf.score(x_train[:, 1:], y_train),\n",
    "            1 - clf.score(x_test[:, 1:], y_test)\n",
    "        )\n",
    "(df.style.hide(axis=\"index\")\n",
    "         .format({\"C\": \"{:.4f}\", \"Q\": \"{:.0f}\", \"number of support vectors\": \"{:.0f}\"})\n",
    "         .set_caption(f\"Soft margin ({C=}) SVM with polynomial \"\n",
    "                      f\"kernel ({Q=}) for 1 vs. 5 classifier\"))"
   ]
  },
  {
   "cell_type": "markdown",
   "metadata": {},
   "source": [
    "### Problems 7–8"
   ]
  },
  {
   "cell_type": "code",
   "execution_count": 5,
   "metadata": {},
   "outputs": [
    {
     "data": {
      "text/html": [
       "<style type=\"text/css\">\n",
       "</style>\n",
       "<table id=\"T_c90c8\">\n",
       "  <thead>\n",
       "    <tr>\n",
       "      <th id=\"T_c90c8_level0_col0\" class=\"col_heading level0 col0\" >C</th>\n",
       "      <th id=\"T_c90c8_level0_col1\" class=\"col_heading level0 col1\" >cross-validation error</th>\n",
       "      <th id=\"T_c90c8_level0_col2\" class=\"col_heading level0 col2\" >selection rate</th>\n",
       "    </tr>\n",
       "  </thead>\n",
       "  <tbody>\n",
       "    <tr>\n",
       "      <td id=\"T_c90c8_row0_col0\" class=\"data row0 col0\" >0.0001</td>\n",
       "      <td id=\"T_c90c8_row0_col1\" class=\"data row0 col1\" >0.009755</td>\n",
       "      <td id=\"T_c90c8_row0_col2\" class=\"data row0 col2\" >0.00</td>\n",
       "    </tr>\n",
       "    <tr>\n",
       "      <td id=\"T_c90c8_row1_col0\" class=\"data row1 col0\" >0.0010</td>\n",
       "      <td id=\"T_c90c8_row1_col1\" class=\"data row1 col1\" >0.004721</td>\n",
       "      <td id=\"T_c90c8_row1_col2\" class=\"data row1 col2\" >0.57</td>\n",
       "    </tr>\n",
       "    <tr>\n",
       "      <td id=\"T_c90c8_row2_col0\" class=\"data row2 col0\" >0.0100</td>\n",
       "      <td id=\"T_c90c8_row2_col1\" class=\"data row2 col1\" >0.004657</td>\n",
       "      <td id=\"T_c90c8_row2_col2\" class=\"data row2 col2\" >0.20</td>\n",
       "    </tr>\n",
       "    <tr>\n",
       "      <td id=\"T_c90c8_row3_col0\" class=\"data row3 col0\" >0.1000</td>\n",
       "      <td id=\"T_c90c8_row3_col1\" class=\"data row3 col1\" >0.004785</td>\n",
       "      <td id=\"T_c90c8_row3_col2\" class=\"data row3 col2\" >0.09</td>\n",
       "    </tr>\n",
       "    <tr>\n",
       "      <td id=\"T_c90c8_row4_col0\" class=\"data row4 col0\" >1.0000</td>\n",
       "      <td id=\"T_c90c8_row4_col1\" class=\"data row4 col1\" >0.004907</td>\n",
       "      <td id=\"T_c90c8_row4_col2\" class=\"data row4 col2\" >0.14</td>\n",
       "    </tr>\n",
       "  </tbody>\n",
       "</table>\n"
      ],
      "text/plain": [
       "<pandas.io.formats.style.Styler at 0x7f6ae85148d0>"
      ]
     },
     "execution_count": 5,
     "metadata": {},
     "output_type": "execute_result"
    }
   ],
   "source": [
    "Cs = (0.0001, 0.001, 0.01, 0.1, 1)\n",
    "Q = 2\n",
    "N_runs = 100\n",
    "N_folds = 10\n",
    "clfs = [svm.SVC(C=C, kernel=\"poly\", degree=Q, gamma=1, coef0=1) \n",
    "        for C in Cs]\n",
    "x_train = data[\"train\"][np.isin(data[\"train\"][:, 0], (1, 5))]\n",
    "y_train = 2 * (x_train[:, 0] == 1) - 1\n",
    "counters = np.zeros((2, len(Cs)), dtype=float)\n",
    "for _ in range(N_runs):\n",
    "    Es_cv = tuple(1 - cross_val_score(clf, x_train[:, 1:], y_train, \n",
    "                                      cv=N_folds).mean()\n",
    "                  for clf in clfs)\n",
    "    counters[0] += Es_cv\n",
    "    counters[1, np.argmin(Es_cv)] += 1\n",
    "    x_train, y_train = shuffle(x_train, y_train)\n",
    "counters /= N_runs\n",
    "df = pd.DataFrame({\"C\": Cs, \"cross-validation error\": counters[0],\n",
    "                   \"selection rate\": counters[1]})\n",
    "df.style.hide(axis=\"index\").format({\"C\": \"{:.4f}\", \"selection rate\": \"{:.2f}\"})"
   ]
  },
  {
   "cell_type": "markdown",
   "metadata": {},
   "source": [
    "### Problems 9–10"
   ]
  },
  {
   "cell_type": "code",
   "execution_count": 6,
   "metadata": {},
   "outputs": [
    {
     "data": {
      "text/html": [
       "<style type=\"text/css\">\n",
       "</style>\n",
       "<table id=\"T_5ac67\">\n",
       "  <thead>\n",
       "    <tr>\n",
       "      <th id=\"T_5ac67_level0_col0\" class=\"col_heading level0 col0\" >C</th>\n",
       "      <th id=\"T_5ac67_level0_col1\" class=\"col_heading level0 col1\" >in-sample error</th>\n",
       "      <th id=\"T_5ac67_level0_col2\" class=\"col_heading level0 col2\" >out-of-sample error</th>\n",
       "    </tr>\n",
       "  </thead>\n",
       "  <tbody>\n",
       "    <tr>\n",
       "      <td id=\"T_5ac67_row0_col0\" class=\"data row0 col0\" >0.01</td>\n",
       "      <td id=\"T_5ac67_row0_col1\" class=\"data row0 col1\" >0.003844</td>\n",
       "      <td id=\"T_5ac67_row0_col2\" class=\"data row0 col2\" >0.023585</td>\n",
       "    </tr>\n",
       "    <tr>\n",
       "      <td id=\"T_5ac67_row1_col0\" class=\"data row1 col0\" >1</td>\n",
       "      <td id=\"T_5ac67_row1_col1\" class=\"data row1 col1\" >0.004484</td>\n",
       "      <td id=\"T_5ac67_row1_col2\" class=\"data row1 col2\" >0.021226</td>\n",
       "    </tr>\n",
       "    <tr>\n",
       "      <td id=\"T_5ac67_row2_col0\" class=\"data row2 col0\" >100</td>\n",
       "      <td id=\"T_5ac67_row2_col1\" class=\"data row2 col1\" >0.003203</td>\n",
       "      <td id=\"T_5ac67_row2_col2\" class=\"data row2 col2\" >0.018868</td>\n",
       "    </tr>\n",
       "    <tr>\n",
       "      <td id=\"T_5ac67_row3_col0\" class=\"data row3 col0\" >10000</td>\n",
       "      <td id=\"T_5ac67_row3_col1\" class=\"data row3 col1\" >0.002562</td>\n",
       "      <td id=\"T_5ac67_row3_col2\" class=\"data row3 col2\" >0.023585</td>\n",
       "    </tr>\n",
       "    <tr>\n",
       "      <td id=\"T_5ac67_row4_col0\" class=\"data row4 col0\" >1e+06</td>\n",
       "      <td id=\"T_5ac67_row4_col1\" class=\"data row4 col1\" >0.000641</td>\n",
       "      <td id=\"T_5ac67_row4_col2\" class=\"data row4 col2\" >0.023585</td>\n",
       "    </tr>\n",
       "  </tbody>\n",
       "</table>\n"
      ],
      "text/plain": [
       "<pandas.io.formats.style.Styler at 0x7f6a14176990>"
      ]
     },
     "execution_count": 6,
     "metadata": {},
     "output_type": "execute_result"
    }
   ],
   "source": [
    "x_train = data[\"train\"][np.isin(data[\"train\"][:, 0], (1, 5))]\n",
    "y_train = 2 * (x_train[:, 0] == 1) - 1\n",
    "x_test = data[\"test\"][np.isin(data[\"test\"][:, 0], (1, 5))]\n",
    "y_test = 2 * (x_test[:, 0] == 1) - 1\n",
    "df = pd.DataFrame(columns=[\"C\", \"in-sample error\", \"out-of-sample error\"])\n",
    "for C in (0.01, 1, 100, 1e4, 1e6):\n",
    "    clf = svm.SVC(C=C, gamma=1)\n",
    "    clf.fit(x_train[:, 1:], y_train)\n",
    "    df.loc[len(df)] = (\n",
    "        clf.C, \n",
    "        1 - clf.score(x_train[:, 1:], y_train),\n",
    "        1 - clf.score(x_test[:, 1:], y_test)\n",
    "    )\n",
    "df.style.hide(axis=\"index\").format({\"C\": \"{:g}\"})"
   ]
  }
 ],
 "metadata": {
  "kernelspec": {
   "display_name": "base",
   "language": "python",
   "name": "python3"
  },
  "language_info": {
   "codemirror_mode": {
    "name": "ipython",
    "version": 3
   },
   "file_extension": ".py",
   "mimetype": "text/x-python",
   "name": "python",
   "nbconvert_exporter": "python",
   "pygments_lexer": "ipython3",
   "version": "3.11.6"
  }
 },
 "nbformat": 4,
 "nbformat_minor": 2
}
