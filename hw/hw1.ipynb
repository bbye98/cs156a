{
 "cells": [
  {
   "cell_type": "markdown",
   "metadata": {},
   "source": [
    "Benjamin Ye  \n",
    "CS/CNE/EE 156a: Learning Systems (Fall 2023)  \n",
    "October 2, 2023"
   ]
  },
  {
   "cell_type": "markdown",
   "metadata": {},
   "source": [
    "## Homework 1"
   ]
  },
  {
   "cell_type": "code",
   "execution_count": 1,
   "metadata": {},
   "outputs": [],
   "source": [
    "import sys\n",
    "\n",
    "import numpy as np\n",
    "\n",
    "sys.path.insert(0, globals()['_dh'][0].resolve().parent)\n",
    "from cs156a import target_function_random_line, validate_binary, perceptron"
   ]
  },
  {
   "cell_type": "markdown",
   "metadata": {},
   "source": [
    "#### Problems 7–10"
   ]
  },
  {
   "cell_type": "code",
   "execution_count": 2,
   "metadata": {},
   "outputs": [
    {
     "name": "stdout",
     "output_type": "stream",
     "text": [
      "\n",
      "[HW1 P7–10]\n",
      "PLA statistics over 1,000 runs:\n",
      "  N=10, iters=10, prob=0.105\n",
      "  N=100, iters=121, prob=0.013\n"
     ]
    }
   ],
   "source": [
    "rng = np.random.default_rng()\n",
    "n_runs = 1_000\n",
    "print(f\"\\n[HW1 P7–10]\\nPLA statistics over {n_runs:,} runs:\")\n",
    "for N in (10, 100):\n",
    "    iters, prob = np.mean(\n",
    "        [perceptron(N, target_function_random_line(rng=rng), \n",
    "                    validate_binary, rng=rng)\n",
    "         for _ in range(n_runs)], \n",
    "        axis=0\n",
    "    )\n",
    "    print(f\"  {N=:,}, {iters=:,.0f}, {prob=:.3f}\")"
   ]
  }
 ],
 "metadata": {
  "kernelspec": {
   "display_name": "cs156a",
   "language": "python",
   "name": "python3"
  },
  "language_info": {
   "codemirror_mode": {
    "name": "ipython",
    "version": 3
   },
   "file_extension": ".py",
   "mimetype": "text/x-python",
   "name": "python",
   "nbconvert_exporter": "python",
   "pygments_lexer": "ipython3",
   "version": "3.11.5"
  }
 },
 "nbformat": 4,
 "nbformat_minor": 2
}
