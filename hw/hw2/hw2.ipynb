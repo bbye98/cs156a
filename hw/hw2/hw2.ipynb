{
 "cells": [
  {
   "cell_type": "markdown",
   "metadata": {},
   "source": [
    "Benjamin Ye  \n",
    "CS/CNE/EE 156a: Learning Systems (Fall 2023)  \n",
    "October 9, 2023"
   ]
  },
  {
   "cell_type": "markdown",
   "metadata": {},
   "source": [
    "## Homework 2"
   ]
  },
  {
   "cell_type": "code",
   "execution_count": 5,
   "metadata": {},
   "outputs": [],
   "source": [
    "import sys\n",
    "\n",
    "import numpy as np\n",
    "import pandas as pd\n",
    "\n",
    "sys.path.insert(0, str(globals()['_dh'][0].parents[1]))\n",
    "from cs156a import (Perceptron, LinearRegression,\n",
    "                    coin_flip, hoeffding_inequality, \n",
    "                    target_function_random_line, target_function_homework_2,\n",
    "                    generate_data, validate_binary)\n",
    "\n",
    "rng = np.random.default_rng()"
   ]
  },
  {
   "cell_type": "markdown",
   "metadata": {},
   "source": [
    "#### Problems 1–2"
   ]
  },
  {
   "cell_type": "code",
   "execution_count": 6,
   "metadata": {},
   "outputs": [
    {
     "data": {
      "text/html": [
       "<style type=\"text/css\">\n",
       "</style>\n",
       "<table id=\"T_bf598\">\n",
       "  <caption>100,000 trials, 1,000 coins, 10 flips</caption>\n",
       "  <thead>\n",
       "    <tr>\n",
       "      <th id=\"T_bf598_level0_col0\" class=\"col_heading level0 col0\" >coin</th>\n",
       "      <th id=\"T_bf598_level0_col1\" class=\"col_heading level0 col1\" >fraction of heads</th>\n",
       "    </tr>\n",
       "  </thead>\n",
       "  <tbody>\n",
       "    <tr>\n",
       "      <td id=\"T_bf598_row0_col0\" class=\"data row0 col0\" >first coin</td>\n",
       "      <td id=\"T_bf598_row0_col1\" class=\"data row0 col1\" >0.499335</td>\n",
       "    </tr>\n",
       "    <tr>\n",
       "      <td id=\"T_bf598_row1_col0\" class=\"data row1 col0\" >random coin</td>\n",
       "      <td id=\"T_bf598_row1_col1\" class=\"data row1 col1\" >0.499967</td>\n",
       "    </tr>\n",
       "    <tr>\n",
       "      <td id=\"T_bf598_row2_col0\" class=\"data row2 col0\" >coin with minimum frequency of heads</td>\n",
       "      <td id=\"T_bf598_row2_col1\" class=\"data row2 col1\" >0.037689</td>\n",
       "    </tr>\n",
       "  </tbody>\n",
       "</table>\n"
      ],
      "text/plain": [
       "<pandas.io.formats.style.Styler at 0x7fd4aa16ee50>"
      ]
     },
     "metadata": {},
     "output_type": "display_data"
    },
    {
     "data": {
      "text/html": [
       "<style type=\"text/css\">\n",
       "</style>\n",
       "<table id=\"T_1b1c3\">\n",
       "  <caption>Hoeffding inequality</caption>\n",
       "  <thead>\n",
       "    <tr>\n",
       "      <th id=\"T_1b1c3_level0_col0\" class=\"col_heading level0 col0\" >epsilon</th>\n",
       "      <th id=\"T_1b1c3_level0_col1\" class=\"col_heading level0 col1\" >bound</th>\n",
       "      <th id=\"T_1b1c3_level0_col2\" class=\"col_heading level0 col2\" >first coin</th>\n",
       "      <th id=\"T_1b1c3_level0_col3\" class=\"col_heading level0 col3\" ></th>\n",
       "      <th id=\"T_1b1c3_level0_col4\" class=\"col_heading level0 col4\" >random coin</th>\n",
       "      <th id=\"T_1b1c3_level0_col5\" class=\"col_heading level0 col5\" > </th>\n",
       "      <th id=\"T_1b1c3_level0_col6\" class=\"col_heading level0 col6\" >coin with minimum frequency of heads</th>\n",
       "      <th id=\"T_1b1c3_level0_col7\" class=\"col_heading level0 col7\" >  </th>\n",
       "    </tr>\n",
       "  </thead>\n",
       "  <tbody>\n",
       "    <tr>\n",
       "      <td id=\"T_1b1c3_row0_col0\" class=\"data row0 col0\" >0.0</td>\n",
       "      <td id=\"T_1b1c3_row0_col1\" class=\"data row0 col1\" >2.000000</td>\n",
       "      <td id=\"T_1b1c3_row0_col2\" class=\"data row0 col2\" >0.247120</td>\n",
       "      <td id=\"T_1b1c3_row0_col3\" class=\"data row0 col3\" >True</td>\n",
       "      <td id=\"T_1b1c3_row0_col4\" class=\"data row0 col4\" >0.247810</td>\n",
       "      <td id=\"T_1b1c3_row0_col5\" class=\"data row0 col5\" >True</td>\n",
       "      <td id=\"T_1b1c3_row0_col6\" class=\"data row0 col6\" >0.000000</td>\n",
       "      <td id=\"T_1b1c3_row0_col7\" class=\"data row0 col7\" >True</td>\n",
       "    </tr>\n",
       "    <tr>\n",
       "      <td id=\"T_1b1c3_row1_col0\" class=\"data row1 col0\" >0.1</td>\n",
       "      <td id=\"T_1b1c3_row1_col1\" class=\"data row1 col1\" >1.637462</td>\n",
       "      <td id=\"T_1b1c3_row1_col2\" class=\"data row1 col2\" >0.409310</td>\n",
       "      <td id=\"T_1b1c3_row1_col3\" class=\"data row1 col3\" >True</td>\n",
       "      <td id=\"T_1b1c3_row1_col4\" class=\"data row1 col4\" >0.407990</td>\n",
       "      <td id=\"T_1b1c3_row1_col5\" class=\"data row1 col5\" >True</td>\n",
       "      <td id=\"T_1b1c3_row1_col6\" class=\"data row1 col6\" >0.000000</td>\n",
       "      <td id=\"T_1b1c3_row1_col7\" class=\"data row1 col7\" >True</td>\n",
       "    </tr>\n",
       "    <tr>\n",
       "      <td id=\"T_1b1c3_row2_col0\" class=\"data row2 col0\" >0.2</td>\n",
       "      <td id=\"T_1b1c3_row2_col1\" class=\"data row2 col1\" >0.898658</td>\n",
       "      <td id=\"T_1b1c3_row2_col2\" class=\"data row2 col2\" >0.235000</td>\n",
       "      <td id=\"T_1b1c3_row2_col3\" class=\"data row2 col3\" >True</td>\n",
       "      <td id=\"T_1b1c3_row2_col4\" class=\"data row2 col4\" >0.233790</td>\n",
       "      <td id=\"T_1b1c3_row2_col5\" class=\"data row2 col5\" >True</td>\n",
       "      <td id=\"T_1b1c3_row2_col6\" class=\"data row2 col6\" >0.000000</td>\n",
       "      <td id=\"T_1b1c3_row2_col7\" class=\"data row2 col7\" >True</td>\n",
       "    </tr>\n",
       "    <tr>\n",
       "      <td id=\"T_1b1c3_row3_col0\" class=\"data row3 col0\" >0.3</td>\n",
       "      <td id=\"T_1b1c3_row3_col1\" class=\"data row3 col1\" >0.330598</td>\n",
       "      <td id=\"T_1b1c3_row3_col2\" class=\"data row3 col2\" >0.087590</td>\n",
       "      <td id=\"T_1b1c3_row3_col3\" class=\"data row3 col3\" >True</td>\n",
       "      <td id=\"T_1b1c3_row3_col4\" class=\"data row3 col4\" >0.088910</td>\n",
       "      <td id=\"T_1b1c3_row3_col5\" class=\"data row3 col5\" >True</td>\n",
       "      <td id=\"T_1b1c3_row3_col6\" class=\"data row3 col6\" >0.000010</td>\n",
       "      <td id=\"T_1b1c3_row3_col7\" class=\"data row3 col7\" >True</td>\n",
       "    </tr>\n",
       "    <tr>\n",
       "      <td id=\"T_1b1c3_row4_col0\" class=\"data row4 col0\" >0.4</td>\n",
       "      <td id=\"T_1b1c3_row4_col1\" class=\"data row4 col1\" >0.081524</td>\n",
       "      <td id=\"T_1b1c3_row4_col2\" class=\"data row4 col2\" >0.019150</td>\n",
       "      <td id=\"T_1b1c3_row4_col3\" class=\"data row4 col3\" >True</td>\n",
       "      <td id=\"T_1b1c3_row4_col4\" class=\"data row4 col4\" >0.019610</td>\n",
       "      <td id=\"T_1b1c3_row4_col5\" class=\"data row4 col5\" >True</td>\n",
       "      <td id=\"T_1b1c3_row4_col6\" class=\"data row4 col6\" >0.376870</td>\n",
       "      <td id=\"T_1b1c3_row4_col7\" class=\"data row4 col7\" >False</td>\n",
       "    </tr>\n",
       "    <tr>\n",
       "      <td id=\"T_1b1c3_row5_col0\" class=\"data row5 col0\" >0.5</td>\n",
       "      <td id=\"T_1b1c3_row5_col1\" class=\"data row5 col1\" >0.013476</td>\n",
       "      <td id=\"T_1b1c3_row5_col2\" class=\"data row5 col2\" >0.001830</td>\n",
       "      <td id=\"T_1b1c3_row5_col3\" class=\"data row5 col3\" >True</td>\n",
       "      <td id=\"T_1b1c3_row5_col4\" class=\"data row5 col4\" >0.001890</td>\n",
       "      <td id=\"T_1b1c3_row5_col5\" class=\"data row5 col5\" >True</td>\n",
       "      <td id=\"T_1b1c3_row5_col6\" class=\"data row5 col6\" >0.623120</td>\n",
       "      <td id=\"T_1b1c3_row5_col7\" class=\"data row5 col7\" >False</td>\n",
       "    </tr>\n",
       "  </tbody>\n",
       "</table>\n"
      ],
      "text/plain": [
       "<pandas.io.formats.style.Styler at 0x7fd4aba05850>"
      ]
     },
     "execution_count": 6,
     "metadata": {},
     "output_type": "execute_result"
    }
   ],
   "source": [
    "N_trials = 100_000\n",
    "N_coins = 1_000\n",
    "N_flips = 10\n",
    "nus = coin_flip(N_trials, N_coins, N_flips, rng=rng)\n",
    "coins = (\"first coin\", \"random coin\", \n",
    "         \"coin with minimum frequency of heads\")\n",
    "df = pd.DataFrame({\"coin\": coins, \"fraction of heads\": nus.mean(axis=1)})\n",
    "display(df.style.hide(axis=\"index\")\n",
    "                .set_caption(f\"{N_trials:,} trials, {N_coins:,} coins, {N_flips:,} flips\"))\n",
    "\n",
    "epsilons = np.linspace(0, 0.5, 6)\n",
    "histograms = np.apply_along_axis(\n",
    "    lambda x: np.histogram(x, bins=np.linspace(-0.05, 1.05, 12))[0], 1, nus\n",
    ") # requires at least 8 GB RAM\n",
    "probabilities = np.hstack((\n",
    "    histograms[:, (5,)], \n",
    "    histograms[:, 4::-1] + histograms[:, 6:]\n",
    ")) / N_trials\n",
    "bounds = hoeffding_inequality(N_flips, epsilons)\n",
    "satisfies = probabilities < bounds\n",
    "data = {\"epsilon\": epsilons, \"bound\": bounds}\n",
    "for i in range(nus.shape[0]):\n",
    "    data[coins[i]] = probabilities[i]\n",
    "    data[i * \" \"] = satisfies[i]\n",
    "df = pd.DataFrame(data)\n",
    "(df.style.hide(axis=\"index\")\n",
    "         .format(\"{:.1f}\", subset=[\"epsilon\"])\n",
    "         .set_caption(\"Hoeffding inequality\"))"
   ]
  },
  {
   "cell_type": "markdown",
   "metadata": {},
   "source": [
    "#### Problems 5–7"
   ]
  },
  {
   "cell_type": "code",
   "execution_count": 7,
   "metadata": {},
   "outputs": [
    {
     "name": "stdout",
     "output_type": "stream",
     "text": [
      "For the linear regression model, the average in-sample and out-of-sample errors over 1,000 runs are 0.053770 and 0.055249, respectively.\n",
      "With initial weights from linear regression, the perceptron takes an average of 6 iterations to converge.\n"
     ]
    }
   ],
   "source": [
    "N_train = 100\n",
    "N_test = 9 * N_train\n",
    "N_runs = 1_000\n",
    "f = target_function_random_line(rng=rng)\n",
    "reg = LinearRegression(vf=validate_binary, rng=rng)\n",
    "errors = np.zeros(2, dtype=float)\n",
    "for _ in range(N_runs):\n",
    "    E_in = reg.train(*generate_data(N_train, f, bias=True, rng=rng))\n",
    "    errors += (\n",
    "        E_in, \n",
    "        reg.get_error(*generate_data(N_test, f, bias=True, rng=rng))\n",
    "    )\n",
    "errors /= N_runs\n",
    "print(\"For the linear regression model, the average in-sample and \"\n",
    "      f\"out-of-sample errors over {N_runs:,} runs are \"\n",
    "      f\"{errors[0]:.6f} and {errors[1]:.6f}, respectively.\")\n",
    "\n",
    "N_train = 10\n",
    "pla = Perceptron(vf=validate_binary)\n",
    "iters = 0\n",
    "for _ in range(N_runs):\n",
    "    f = target_function_random_line(rng=rng)\n",
    "    x_train, y_train = generate_data(N_train, f, bias=True, rng=rng)\n",
    "    reg.train(x_train, y_train)\n",
    "    pla.set_parameters(w=reg.w, update=True)\n",
    "    pla.train(x_train, y_train)\n",
    "    iters += pla.iters\n",
    "print(\"With initial weights from linear regression, the perceptron \"\n",
    "      f\"takes an average of {iters / N_runs:.0f} iterations to \"\n",
    "      \"converge.\")"
   ]
  },
  {
   "cell_type": "markdown",
   "metadata": {},
   "source": [
    "#### Problems 8–10"
   ]
  },
  {
   "cell_type": "code",
   "execution_count": 8,
   "metadata": {},
   "outputs": [
    {
     "name": "stdout",
     "output_type": "stream",
     "text": [
      "For the linear regression model with 10% noise, the average in-sample error over 1,000 runs is 0.506127.\n",
      "The average weight vector over 1,000 runs is w=[-0.990812, -0.001094, 0.000515, 0.001262, 1.557015, 1.554810].\n"
     ]
    },
    {
     "data": {
      "text/html": [
       "<style type=\"text/css\">\n",
       "</style>\n",
       "<table id=\"T_211de\">\n",
       "  <caption>Closest hypothesis</caption>\n",
       "  <thead>\n",
       "    <tr>\n",
       "      <th id=\"T_211de_level0_col0\" class=\"col_heading level0 col0\" >choice</th>\n",
       "      <th id=\"T_211de_level0_col1\" class=\"col_heading level0 col1\" >g</th>\n",
       "      <th id=\"T_211de_level0_col2\" class=\"col_heading level0 col2\" >probability</th>\n",
       "    </tr>\n",
       "  </thead>\n",
       "  <tbody>\n",
       "    <tr>\n",
       "      <td id=\"T_211de_row0_col0\" class=\"data row0 col0\" >[a]</td>\n",
       "      <td id=\"T_211de_row0_col1\" class=\"data row0 col1\" >[-1, -0.05, 0.08, 0.13, 1.5, 1.5]</td>\n",
       "      <td id=\"T_211de_row0_col2\" class=\"data row0 col2\" >0.971291</td>\n",
       "    </tr>\n",
       "    <tr>\n",
       "      <td id=\"T_211de_row1_col0\" class=\"data row1 col0\" >[b]</td>\n",
       "      <td id=\"T_211de_row1_col1\" class=\"data row1 col1\" >[-1, -0.05, 0.08, 0.13, 1.5, 15]</td>\n",
       "      <td id=\"T_211de_row1_col2\" class=\"data row1 col2\" >0.663870</td>\n",
       "    </tr>\n",
       "    <tr>\n",
       "      <td id=\"T_211de_row2_col0\" class=\"data row2 col0\" >[c]</td>\n",
       "      <td id=\"T_211de_row2_col1\" class=\"data row2 col1\" >[-1, -0.05, 0.08, 0.13, 15, 1.5]</td>\n",
       "      <td id=\"T_211de_row2_col2\" class=\"data row2 col2\" >0.662978</td>\n",
       "    </tr>\n",
       "    <tr>\n",
       "      <td id=\"T_211de_row3_col0\" class=\"data row3 col0\" >[d]</td>\n",
       "      <td id=\"T_211de_row3_col1\" class=\"data row3 col1\" >[-1, -1.5, 0.08, 0.13, 0.05, 0.05]</td>\n",
       "      <td id=\"T_211de_row3_col2\" class=\"data row3 col2\" >0.632778</td>\n",
       "    </tr>\n",
       "    <tr>\n",
       "      <td id=\"T_211de_row4_col0\" class=\"data row4 col0\" >[e]</td>\n",
       "      <td id=\"T_211de_row4_col1\" class=\"data row4 col1\" >[-1, -0.05, 0.08, 1.5, 0.15, 0.15]</td>\n",
       "      <td id=\"T_211de_row4_col2\" class=\"data row4 col2\" >0.560758</td>\n",
       "    </tr>\n",
       "  </tbody>\n",
       "</table>\n"
      ],
      "text/plain": [
       "<pandas.io.formats.style.Styler at 0x7fd4aa181a90>"
      ]
     },
     "metadata": {},
     "output_type": "display_data"
    },
    {
     "name": "stdout",
     "output_type": "stream",
     "text": [
      "The average out-of-sample error over 1,000 runs is 0.123123.\n"
     ]
    }
   ],
   "source": [
    "N_train = N_runs = 1_000\n",
    "N_test = 9 * N_train\n",
    "noise = (0.1, lambda y: -y)\n",
    "reg = LinearRegression(vf=validate_binary, noise=noise, rng=rng)\n",
    "E_in = 0\n",
    "for _ in range(N_runs):\n",
    "    E_in += reg.train(*generate_data(N_train, target_function_homework_2,\n",
    "                                     bias=True, rng=rng))\n",
    "print(f\"For the linear regression model with {noise[0]:.0%} noise, \"\n",
    "      f\"the average in-sample error over {N_runs:,} runs is \"\n",
    "      f\"{E_in / N_runs:.6f}.\")\n",
    "\n",
    "transform = lambda x: np.hstack((x, x[:, 1:2] * x[:, 2:], x[:, 1:2] ** 2, \n",
    "                                 x[:, 2:] ** 2))\n",
    "gs = np.array(((-1, -0.05, 0.08, 0.13, 1.5, 1.5), \n",
    "               (-1, -0.05, 0.08, 0.13, 1.5, 15),\n",
    "               (-1, -0.05, 0.08, 0.13, 15, 1.5),\n",
    "               (-1, -1.5, 0.08, 0.13, 0.05, 0.05),\n",
    "               (-1, -0.05, 0.08, 1.5, 0.15, 0.15)))\n",
    "w = np.zeros_like(gs[0])\n",
    "reg.set_parameters(vf=validate_binary, transform=transform, noise=noise, \n",
    "                   update=True)\n",
    "for _ in range(N_runs):\n",
    "    reg.train(*generate_data(N_train, target_function_homework_2,\n",
    "                             bias=True, rng=rng))\n",
    "    w += reg.w\n",
    "w /= N_runs\n",
    "print(f\"The average weight vector over {N_runs:,} runs is \"\n",
    "      \"w=[\", \", \".join(f\"{v:.6f}\" for v in w), \"].\", sep=\"\")\n",
    "\n",
    "counters = np.zeros(6, dtype=float)\n",
    "for _ in range(N_runs):\n",
    "    x_test, y_test = generate_data(N_test, target_function_homework_2,\n",
    "                                   bias=True, rng=rng)\n",
    "    x_test = transform(x_test)\n",
    "    y_test[rng.choice(N_test, round(noise[0] * N_test), False)] *= -1\n",
    "    h_test = np.sign(x_test @ w)\n",
    "    counters += (*validate_binary(gs.T, x_test, h_test[:, None]),\n",
    "                 np.count_nonzero(h_test != y_test) / N_test)\n",
    "counters /= N_runs\n",
    "df = pd.DataFrame({\n",
    "    \"choice\": [f\"[{chr(97 + i)}]\" for i in range(5)],\n",
    "    \"g\": [f\"[{', '.join(f'{c:.2g}' for c in g)}]\" for g in gs],\n",
    "    \"probability\": 1 - counters[:5]\n",
    "})\n",
    "display(df.style.hide(axis=\"index\")\n",
    "                .set_caption(f\"Closest hypothesis\"))\n",
    "print(f\"The average out-of-sample error over {N_runs:,} runs is {counters[5]:.6f}.\")"
   ]
  }
 ],
 "metadata": {
  "kernelspec": {
   "display_name": "cs156a",
   "language": "python",
   "name": "python3"
  },
  "language_info": {
   "codemirror_mode": {
    "name": "ipython",
    "version": 3
   },
   "file_extension": ".py",
   "mimetype": "text/x-python",
   "name": "python",
   "nbconvert_exporter": "python",
   "pygments_lexer": "ipython3",
   "version": "3.11.6"
  }
 },
 "nbformat": 4,
 "nbformat_minor": 2
}
