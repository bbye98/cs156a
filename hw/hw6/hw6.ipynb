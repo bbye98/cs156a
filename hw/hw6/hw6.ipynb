{
 "cells": [
  {
   "cell_type": "markdown",
   "metadata": {},
   "source": [
    "Benjamin Ye  \n",
    "CS/CNE/EE 156a: Learning Systems (Fall 2023)  \n",
    "November 6, 2023"
   ]
  },
  {
   "cell_type": "markdown",
   "metadata": {},
   "source": [
    "## Homework 6"
   ]
  },
  {
   "cell_type": "code",
   "execution_count": 5,
   "metadata": {},
   "outputs": [],
   "source": [
    "import sys\n",
    "\n",
    "import numpy as np\n",
    "import pandas as pd\n",
    "import requests\n",
    "\n",
    "CWD = globals()['_dh'][0]\n",
    "sys.path.insert(0, str(CWD.parents[1]))\n",
    "from cs156a import LinearRegression, validate_binary\n",
    "\n",
    "DATA_DIR = CWD.parents[1] / \"data\"\n",
    "rng = np.random.default_rng()"
   ]
  },
  {
   "cell_type": "markdown",
   "metadata": {},
   "source": [
    "### Problems 2–6"
   ]
  },
  {
   "cell_type": "code",
   "execution_count": 6,
   "metadata": {},
   "outputs": [
    {
     "name": "stdout",
     "output_type": "stream",
     "text": [
      "For the linear regression model without regularization, the in-sample and out-of-sample errors are 0.02857 and 0.08400, respectively.\n"
     ]
    },
    {
     "data": {
      "text/html": [
       "<style type=\"text/css\">\n",
       "</style>\n",
       "<table id=\"T_c28d4\">\n",
       "  <caption>Linear regression with weight decay regularization</caption>\n",
       "  <thead>\n",
       "    <tr>\n",
       "      <th id=\"T_c28d4_level0_col0\" class=\"col_heading level0 col0\" >k</th>\n",
       "      <th id=\"T_c28d4_level0_col1\" class=\"col_heading level0 col1\" >in-sample error</th>\n",
       "      <th id=\"T_c28d4_level0_col2\" class=\"col_heading level0 col2\" >out-of-sample error</th>\n",
       "    </tr>\n",
       "  </thead>\n",
       "  <tbody>\n",
       "    <tr>\n",
       "      <td id=\"T_c28d4_row0_col0\" class=\"data row0 col0\" >-5</td>\n",
       "      <td id=\"T_c28d4_row0_col1\" class=\"data row0 col1\" >0.028571</td>\n",
       "      <td id=\"T_c28d4_row0_col2\" class=\"data row0 col2\" >0.084000</td>\n",
       "    </tr>\n",
       "    <tr>\n",
       "      <td id=\"T_c28d4_row1_col0\" class=\"data row1 col0\" >-4</td>\n",
       "      <td id=\"T_c28d4_row1_col1\" class=\"data row1 col1\" >0.028571</td>\n",
       "      <td id=\"T_c28d4_row1_col2\" class=\"data row1 col2\" >0.084000</td>\n",
       "    </tr>\n",
       "    <tr>\n",
       "      <td id=\"T_c28d4_row2_col0\" class=\"data row2 col0\" >-3</td>\n",
       "      <td id=\"T_c28d4_row2_col1\" class=\"data row2 col1\" >0.028571</td>\n",
       "      <td id=\"T_c28d4_row2_col2\" class=\"data row2 col2\" >0.080000</td>\n",
       "    </tr>\n",
       "    <tr>\n",
       "      <td id=\"T_c28d4_row3_col0\" class=\"data row3 col0\" >-2</td>\n",
       "      <td id=\"T_c28d4_row3_col1\" class=\"data row3 col1\" >0.028571</td>\n",
       "      <td id=\"T_c28d4_row3_col2\" class=\"data row3 col2\" >0.084000</td>\n",
       "    </tr>\n",
       "    <tr>\n",
       "      <td id=\"T_c28d4_row4_col0\" class=\"data row4 col0\" >-1</td>\n",
       "      <td id=\"T_c28d4_row4_col1\" class=\"data row4 col1\" >0.028571</td>\n",
       "      <td id=\"T_c28d4_row4_col2\" class=\"data row4 col2\" >0.056000</td>\n",
       "    </tr>\n",
       "    <tr>\n",
       "      <td id=\"T_c28d4_row5_col0\" class=\"data row5 col0\" >0</td>\n",
       "      <td id=\"T_c28d4_row5_col1\" class=\"data row5 col1\" >0.000000</td>\n",
       "      <td id=\"T_c28d4_row5_col2\" class=\"data row5 col2\" >0.092000</td>\n",
       "    </tr>\n",
       "    <tr>\n",
       "      <td id=\"T_c28d4_row6_col0\" class=\"data row6 col0\" >1</td>\n",
       "      <td id=\"T_c28d4_row6_col1\" class=\"data row6 col1\" >0.057143</td>\n",
       "      <td id=\"T_c28d4_row6_col2\" class=\"data row6 col2\" >0.124000</td>\n",
       "    </tr>\n",
       "    <tr>\n",
       "      <td id=\"T_c28d4_row7_col0\" class=\"data row7 col0\" >2</td>\n",
       "      <td id=\"T_c28d4_row7_col1\" class=\"data row7 col1\" >0.200000</td>\n",
       "      <td id=\"T_c28d4_row7_col2\" class=\"data row7 col2\" >0.228000</td>\n",
       "    </tr>\n",
       "    <tr>\n",
       "      <td id=\"T_c28d4_row8_col0\" class=\"data row8 col0\" >3</td>\n",
       "      <td id=\"T_c28d4_row8_col1\" class=\"data row8 col1\" >0.371429</td>\n",
       "      <td id=\"T_c28d4_row8_col2\" class=\"data row8 col2\" >0.436000</td>\n",
       "    </tr>\n",
       "    <tr>\n",
       "      <td id=\"T_c28d4_row9_col0\" class=\"data row9 col0\" >4</td>\n",
       "      <td id=\"T_c28d4_row9_col1\" class=\"data row9 col1\" >0.428571</td>\n",
       "      <td id=\"T_c28d4_row9_col2\" class=\"data row9 col2\" >0.452000</td>\n",
       "    </tr>\n",
       "    <tr>\n",
       "      <td id=\"T_c28d4_row10_col0\" class=\"data row10 col0\" >5</td>\n",
       "      <td id=\"T_c28d4_row10_col1\" class=\"data row10 col1\" >0.428571</td>\n",
       "      <td id=\"T_c28d4_row10_col2\" class=\"data row10 col2\" >0.456000</td>\n",
       "    </tr>\n",
       "    <tr>\n",
       "      <td id=\"T_c28d4_row11_col0\" class=\"data row11 col0\" >6</td>\n",
       "      <td id=\"T_c28d4_row11_col1\" class=\"data row11 col1\" >0.428571</td>\n",
       "      <td id=\"T_c28d4_row11_col2\" class=\"data row11 col2\" >0.456000</td>\n",
       "    </tr>\n",
       "  </tbody>\n",
       "</table>\n"
      ],
      "text/plain": [
       "<pandas.io.formats.style.Styler at 0x7f2583163a90>"
      ]
     },
     "execution_count": 6,
     "metadata": {},
     "output_type": "execute_result"
    }
   ],
   "source": [
    "DATA_DIR.mkdir(exist_ok=True)\n",
    "data = {\"train\": \"in.dta\", \"test\": \"out.dta\"}\n",
    "for dataset, file in data.items():\n",
    "    if not (DATA_DIR / file).exists():\n",
    "        r = requests.get(f\"http://work.caltech.edu/data/{file}\")\n",
    "        with open(DATA_DIR / file, \"wb\") as f:\n",
    "            f.write(r.content)\n",
    "    data[dataset] = np.loadtxt(DATA_DIR / file)\n",
    "\n",
    "transform = lambda x: np.hstack((\n",
    "    np.ones((len(x), 1), dtype=float), \n",
    "    x, \n",
    "    x[:, :1] ** 2, \n",
    "    x[:, 1:] ** 2, \n",
    "    np.prod(x, axis=1, keepdims=True), \n",
    "    np.abs(x[:, :1] - x[:, 1:]), \n",
    "    np.abs(x[:, :1] + x[:, 1:])\n",
    "))\n",
    "reg = LinearRegression(vf=validate_binary, transform=transform, rng=rng)\n",
    "E_in = reg.train(data[\"train\"][:, :-1], data[\"train\"][:, -1])\n",
    "E_out = reg.get_error(data[\"test\"][:, :-1], data[\"test\"][:, -1])\n",
    "print(\"For the linear regression model without regularization, the \"\n",
    "      f\"in-sample and out-of-sample errors are {E_in:.5f} and \"\n",
    "      f\"{E_out:.5f}, respectively.\", sep=\"\")\n",
    "\n",
    "df = pd.DataFrame(columns=[\"k\", \"in-sample error\", \"out-of-sample error\"])\n",
    "for k in np.arange(-5, 7):\n",
    "    reg.set_parameters(regularization=\"weight_decay\",\n",
    "                       weight_decay_lambda=10.0 ** k, update=True)\n",
    "    E_in = reg.train(data[\"train\"][:, :-1], data[\"train\"][:, -1])\n",
    "    df.loc[len(df)] = k, E_in, reg.get_error(data[\"test\"][:, :-1],\n",
    "                                             data[\"test\"][:, -1])\n",
    "(df.style.format(\"{:.0f}\", subset=[\"k\"])\n",
    "         .hide(axis=\"index\")\n",
    "         .set_caption(\"Linear regression with weight decay regularization\"))"
   ]
  }
 ],
 "metadata": {
  "kernelspec": {
   "display_name": "base",
   "language": "python",
   "name": "python3"
  },
  "language_info": {
   "codemirror_mode": {
    "name": "ipython",
    "version": 3
   },
   "file_extension": ".py",
   "mimetype": "text/x-python",
   "name": "python",
   "nbconvert_exporter": "python",
   "pygments_lexer": "ipython3",
   "version": "3.11.6"
  }
 },
 "nbformat": 4,
 "nbformat_minor": 2
}
