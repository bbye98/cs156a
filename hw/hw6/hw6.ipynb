{
 "cells": [
  {
   "cell_type": "markdown",
   "metadata": {},
   "source": [
    "Benjamin Ye  \n",
    "CS/CNE/EE 156a: Learning Systems (Fall 2023)  \n",
    "November 6, 2023"
   ]
  },
  {
   "cell_type": "code",
   "execution_count": 5,
   "metadata": {},
   "outputs": [],
   "source": [
    "import sys\n",
    "\n",
    "import numpy as np\n",
    "import requests\n",
    "\n",
    "CWD = globals()['_dh'][0].resolve()\n",
    "sys.path.insert(0, str(CWD.parent))\n",
    "from cs156a import linear_regression, validate_binary\n",
    "\n",
    "DATA_DIR = (CWD / \"../data\").resolve()"
   ]
  },
  {
   "cell_type": "markdown",
   "metadata": {},
   "source": [
    "### Problems 2–6"
   ]
  },
  {
   "cell_type": "code",
   "execution_count": 6,
   "metadata": {},
   "outputs": [
    {
     "name": "stdout",
     "output_type": "stream",
     "text": [
      "\n",
      "[HW6 P2–6]\n",
      "Linear regression (without regularization) statistics:\n",
      "  E_in=0.029, E_out=0.084\n",
      "Linear regression (with weight decay regularization using lambda=10^k) statistics:\n",
      "  k=-5: E_in=0.029, E_out=0.084\n",
      "  k=-4: E_in=0.029, E_out=0.084\n",
      "  k=-3: E_in=0.029, E_out=0.080\n",
      "  k=-2: E_in=0.029, E_out=0.084\n",
      "  k=-1: E_in=0.029, E_out=0.056\n",
      "  k=0: E_in=0.000, E_out=0.092\n",
      "  k=1: E_in=0.057, E_out=0.124\n",
      "  k=2: E_in=0.200, E_out=0.228\n",
      "  k=3: E_in=0.371, E_out=0.436\n",
      "  k=4: E_in=0.429, E_out=0.452\n",
      "  k=5: E_in=0.429, E_out=0.456\n",
      "  k=6: E_in=0.429, E_out=0.456\n"
     ]
    }
   ],
   "source": [
    "DATA_DIR.mkdir(exist_ok=True)\n",
    "data = {\"train\": \"in.dta\", \"test\": \"out.dta\"}\n",
    "for dataset, file in data.items():\n",
    "    if not (DATA_DIR / file).exists():\n",
    "        r = requests.get(f\"http://work.caltech.edu/data/{file}\")\n",
    "        with open(DATA_DIR / file, \"wb\") as f:\n",
    "            f.write(r.content)\n",
    "    data[dataset] = np.loadtxt(DATA_DIR / file)\n",
    "\n",
    "transform = lambda x: np.hstack((\n",
    "    np.ones((len(x), 1), dtype=float), \n",
    "    x, \n",
    "    x[:, :1] ** 2, \n",
    "    x[:, 1:] ** 2, \n",
    "    np.prod(x, axis=1, keepdims=True), \n",
    "    np.abs(x[:, :1] - x[:, 1:]), \n",
    "    np.abs(x[:, :1] + x[:, 1:])\n",
    "))\n",
    "\n",
    "print(\"\\n[HW6 P2–6]\\nLinear regression (without regularization) \"\n",
    "      \"statistics:\")\n",
    "E_in, E_out = linear_regression(\n",
    "    vf=validate_binary, x=data[\"train\"][:, :-1], y=data[\"train\"][:, -1],\n",
    "    transform=transform, x_test=data[\"test\"][:, :-1], y_test=data[\"test\"][:, -1]\n",
    ")\n",
    "print(f\"  {E_in=:.3f}, {E_out=:.3f}\")\n",
    "print(\"Linear regression (with weight decay regularization using \"\n",
    "      \"lambda=10^k) statistics:\")\n",
    "for k in (ks := np.arange(-5, 7)):\n",
    "    E_in, E_out = linear_regression(\n",
    "        vf=validate_binary, x=data[\"train\"][:, :-1], y=data[\"train\"][:, -1],\n",
    "        transform=transform, regularization=\"weight_decay\", wd_lambda=10.0 ** k,\n",
    "        x_test=data[\"test\"][:, :-1], y_test=data[\"test\"][:, -1]\n",
    "    )\n",
    "    print(f\"  {k=}: {E_in=:.3f}, {E_out=:.3f}\")"
   ]
  }
 ],
 "metadata": {
  "kernelspec": {
   "display_name": "base",
   "language": "python",
   "name": "python3"
  },
  "language_info": {
   "codemirror_mode": {
    "name": "ipython",
    "version": 3
   },
   "file_extension": ".py",
   "mimetype": "text/x-python",
   "name": "python",
   "nbconvert_exporter": "python",
   "pygments_lexer": "ipython3",
   "version": "3.11.6"
  }
 },
 "nbformat": 4,
 "nbformat_minor": 2
}
